{
  "nbformat": 4,
  "nbformat_minor": 0,
  "metadata": {
    "colab": {
      "provenance": [],
      "toc_visible": true,
      "gpuType": "T4"
    },
    "kernelspec": {
      "name": "python3",
      "display_name": "Python 3"
    },
    "language_info": {
      "name": "python"
    },
    "accelerator": "GPU"
  },
  "cells": [
    {
      "cell_type": "code",
      "execution_count": null,
      "metadata": {
        "colab": {
          "base_uri": "https://localhost:8080/"
        },
        "id": "FwQIYZcu9JqR",
        "outputId": "cd2cc863-9fc4-4515-b75e-3398df1dc681"
      },
      "outputs": [
        {
          "output_type": "stream",
          "name": "stdout",
          "text": [
            "Fri Nov 10 16:00:48 2023       \n",
            "+-----------------------------------------------------------------------------+\n",
            "| NVIDIA-SMI 525.105.17   Driver Version: 525.105.17   CUDA Version: 12.0     |\n",
            "|-------------------------------+----------------------+----------------------+\n",
            "| GPU  Name        Persistence-M| Bus-Id        Disp.A | Volatile Uncorr. ECC |\n",
            "| Fan  Temp  Perf  Pwr:Usage/Cap|         Memory-Usage | GPU-Util  Compute M. |\n",
            "|                               |                      |               MIG M. |\n",
            "|===============================+======================+======================|\n",
            "|   0  Tesla T4            Off  | 00000000:00:04.0 Off |                    0 |\n",
            "| N/A   38C    P8     9W /  70W |      0MiB / 15360MiB |      0%      Default |\n",
            "|                               |                      |                  N/A |\n",
            "+-------------------------------+----------------------+----------------------+\n",
            "                                                                               \n",
            "+-----------------------------------------------------------------------------+\n",
            "| Processes:                                                                  |\n",
            "|  GPU   GI   CI        PID   Type   Process name                  GPU Memory |\n",
            "|        ID   ID                                                   Usage      |\n",
            "|=============================================================================|\n",
            "|  No running processes found                                                 |\n",
            "+-----------------------------------------------------------------------------+\n"
          ]
        }
      ],
      "source": [
        "!nvidia-smi"
      ]
    },
    {
      "cell_type": "code",
      "source": [
        "import tensorflow as  tf\n",
        "import torch"
      ],
      "metadata": {
        "id": "G7Wza1aj9Xfg"
      },
      "execution_count": null,
      "outputs": []
    },
    {
      "cell_type": "code",
      "source": [
        "print('Tensorflow版本為:', tf.__version__)\n",
        "print('Pytorch版本為:', torch.__version__)"
      ],
      "metadata": {
        "colab": {
          "base_uri": "https://localhost:8080/"
        },
        "id": "6IaQF8Q097Sl",
        "outputId": "e3308ede-36b8-410e-ea9f-0d5944c3449d"
      },
      "execution_count": null,
      "outputs": [
        {
          "output_type": "stream",
          "name": "stdout",
          "text": [
            "Tensorflow版本為: 2.14.0\n",
            "Pytorch版本為: 2.1.0+cu118\n"
          ]
        }
      ]
    },
    {
      "cell_type": "code",
      "source": [
        "print(\"Tensorflow是否可使用GPU:\", tf.test.is_gpu_available())\n",
        "print(\"Pytorch是否可使用GPU:\", torch.cuda.is_available())"
      ],
      "metadata": {
        "colab": {
          "base_uri": "https://localhost:8080/"
        },
        "id": "c31BwzvG-C9C",
        "outputId": "a8ca60f3-0d1c-4dbe-d4fa-52acfc8854fc"
      },
      "execution_count": null,
      "outputs": [
        {
          "output_type": "stream",
          "name": "stderr",
          "text": [
            "WARNING:tensorflow:From <ipython-input-4-c7c4f8b347a0>:1: is_gpu_available (from tensorflow.python.framework.test_util) is deprecated and will be removed in a future version.\n",
            "Instructions for updating:\n",
            "Use `tf.config.list_physical_devices('GPU')` instead.\n"
          ]
        },
        {
          "output_type": "stream",
          "name": "stdout",
          "text": [
            "Tensorflow是否可使用GPU: True\n",
            "Pytorch是否可使用GPU: True\n"
          ]
        }
      ]
    },
    {
      "cell_type": "markdown",
      "source": [
        "# 建立第一個ANN model"
      ],
      "metadata": {
        "id": "n7BXhAs5_jv0"
      }
    },
    {
      "cell_type": "code",
      "source": [
        "# 建立假資料\n",
        "import numpy as  np\n",
        "\n",
        "X_train = np.random.random((1000,3))\n",
        "y_train = np.random.randint(2, size=(1000,1))"
      ],
      "metadata": {
        "id": "E-hrEQgq_mHf"
      },
      "execution_count": null,
      "outputs": []
    },
    {
      "cell_type": "code",
      "source": [],
      "metadata": {
        "id": "xIHnnMmCADmM"
      },
      "execution_count": null,
      "outputs": []
    },
    {
      "cell_type": "code",
      "source": [
        "from tensorflow.keras.models import Sequential\n",
        "\n",
        "model = Sequential()"
      ],
      "metadata": {
        "id": "oo10wm_c-MRd"
      },
      "execution_count": null,
      "outputs": []
    },
    {
      "cell_type": "code",
      "source": [
        "from tensorflow.keras.layers import Dense\n",
        "\n",
        "model.add(Dense(units=4, activation='relu'))\n",
        "model.add(Dense(units=4, activation='relu'))\n",
        "model.add(Dense(units=1, activation='sigmoid'))"
      ],
      "metadata": {
        "id": "wgcL2tkp--x4"
      },
      "execution_count": null,
      "outputs": []
    },
    {
      "cell_type": "code",
      "source": [
        "model.compile(loss='binary_crossentropy',\n",
        "              optimizer='adam',\n",
        "              metrics=['accuracy'])"
      ],
      "metadata": {
        "id": "q8IUN3rA_ADg"
      },
      "execution_count": null,
      "outputs": []
    },
    {
      "cell_type": "code",
      "source": [
        "# x_train 和 y_train 是 Numpy 数组 -- 就像在 Scikit-Learn API 中一样。\n",
        "model.fit(X_train, y_train, epochs=5, batch_size=32)"
      ],
      "metadata": {
        "colab": {
          "base_uri": "https://localhost:8080/"
        },
        "id": "TUd1h91OBAF3",
        "outputId": "ff82e03d-f103-40b9-df4c-dac1fac91bf1"
      },
      "execution_count": null,
      "outputs": [
        {
          "output_type": "stream",
          "name": "stdout",
          "text": [
            "Epoch 1/5\n",
            "32/32 [==============================] - 6s 4ms/step - loss: 0.6939 - accuracy: 0.4760\n",
            "Epoch 2/5\n",
            "32/32 [==============================] - 0s 4ms/step - loss: 0.6934 - accuracy: 0.4940\n",
            "Epoch 3/5\n",
            "32/32 [==============================] - 0s 3ms/step - loss: 0.6932 - accuracy: 0.5030\n",
            "Epoch 4/5\n",
            "32/32 [==============================] - 0s 3ms/step - loss: 0.6931 - accuracy: 0.5110\n",
            "Epoch 5/5\n",
            "32/32 [==============================] - 0s 3ms/step - loss: 0.6930 - accuracy: 0.5120\n"
          ]
        },
        {
          "output_type": "execute_result",
          "data": {
            "text/plain": [
              "<keras.src.callbacks.History at 0x7db24051de10>"
            ]
          },
          "metadata": {},
          "execution_count": 16
        }
      ]
    },
    {
      "cell_type": "code",
      "source": [
        "model.evaluate(X_train, y_train)"
      ],
      "metadata": {
        "colab": {
          "base_uri": "https://localhost:8080/"
        },
        "id": "pV34VGL3BNor",
        "outputId": "27ac6e8e-8846-42c5-cbc7-8efb89865a35"
      },
      "execution_count": null,
      "outputs": [
        {
          "output_type": "stream",
          "name": "stdout",
          "text": [
            "32/32 [==============================] - 0s 2ms/step - loss: 0.6930 - accuracy: 0.5120\n"
          ]
        },
        {
          "output_type": "execute_result",
          "data": {
            "text/plain": [
              "[0.6929816007614136, 0.5120000243186951]"
            ]
          },
          "metadata": {},
          "execution_count": 18
        }
      ]
    },
    {
      "cell_type": "code",
      "source": [
        "model.summary()"
      ],
      "metadata": {
        "colab": {
          "base_uri": "https://localhost:8080/"
        },
        "id": "TvCX9Sr0Besz",
        "outputId": "9eb85d1e-3320-440b-ce27-edf4526f0d6d"
      },
      "execution_count": null,
      "outputs": [
        {
          "output_type": "stream",
          "name": "stdout",
          "text": [
            "Model: \"sequential_1\"\n",
            "_________________________________________________________________\n",
            " Layer (type)                Output Shape              Param #   \n",
            "=================================================================\n",
            " dense (Dense)               (None, 4)                 16        \n",
            "                                                                 \n",
            " dense_1 (Dense)             (None, 4)                 20        \n",
            "                                                                 \n",
            " dense_2 (Dense)             (None, 1)                 5         \n",
            "                                                                 \n",
            "=================================================================\n",
            "Total params: 41 (164.00 Byte)\n",
            "Trainable params: 41 (164.00 Byte)\n",
            "Non-trainable params: 0 (0.00 Byte)\n",
            "_________________________________________________________________\n"
          ]
        }
      ]
    },
    {
      "cell_type": "code",
      "source": [
        "from keras.utils import plot_model\n",
        "\n",
        "plot_model(model, show_shapes=True, show_layer_names=True, show_layer_activations=True)"
      ],
      "metadata": {
        "colab": {
          "base_uri": "https://localhost:8080/",
          "height": 422
        },
        "id": "3kTDGwamByvG",
        "outputId": "5f5d0687-1988-4ff1-ffff-b48227681d97"
      },
      "execution_count": null,
      "outputs": [
        {
          "output_type": "execute_result",
          "data": {
            "image/png": "[encoded data removed]",
            "text/plain": [
              "<IPython.core.display.Image object>"
            ]
          },
          "metadata": {},
          "execution_count": 22
        }
      ]
    },
    {
      "cell_type": "code",
      "source": [],
      "metadata": {
        "id": "TXwLX64yCGOY"
      },
      "execution_count": null,
      "outputs": []
    },
    {
      "cell_type": "code",
      "source": [
        "from tensorflow.keras.models import Sequential\n",
        "from tensorflow.keras.layers import Dense\n",
        "import numpy as np\n",
        "\n",
        "# 產生隨機的訓練資料\n",
        "X_train = np.random.random((1000, 3))\n",
        "# Binary labels (0 or 1)\n",
        "y_train = np.random.randint(2, size=(1000, 1))\n",
        "\n",
        "# 建立模型\n",
        "model = Sequential()\n",
        "\n",
        "# 第一層隱藏層，4個神經元，激活函數為relu\n",
        "model.add(Dense(4, activation='relu'))\n",
        "\n",
        "# 第二層隱藏層，4個神經元，激活函數為relu\n",
        "model.add(Dense(4, activation='relu'))\n",
        "\n",
        "# 輸出層，使用sigmoid輸出0-1的二元機率\n",
        "model.add(Dense(1, activation='sigmoid'))\n",
        "\n",
        "# 編譯模型\n",
        "model.compile(loss='binary_crossentropy', optimizer='adam', metrics=['accuracy'])\n",
        "\n",
        "# 訓練模型\n",
        "model.fit(X_train, y_train, epochs=5, batch_size=32)\n",
        "\n",
        "# 使用評估模型，這邊用訓練資料\n",
        "scores = model.evaluate(X_train, y_train)\n",
        "print(\"accuracy:\" , round(scores[1]*100,4),'%')"
      ],
      "metadata": {
        "colab": {
          "base_uri": "https://localhost:8080/"
        },
        "id": "873o94FhCYpw",
        "outputId": "31916517-e7f2-41c4-accc-b71b1d48d20d"
      },
      "execution_count": null,
      "outputs": [
        {
          "output_type": "stream",
          "name": "stdout",
          "text": [
            "Epoch 1/5\n",
            "32/32 [==============================] - 1s 4ms/step - loss: 0.6934 - accuracy: 0.5050\n",
            "Epoch 2/5\n",
            "32/32 [==============================] - 0s 4ms/step - loss: 0.6932 - accuracy: 0.4930\n",
            "Epoch 3/5\n",
            "32/32 [==============================] - 0s 3ms/step - loss: 0.6930 - accuracy: 0.5150\n",
            "Epoch 4/5\n",
            "32/32 [==============================] - 0s 4ms/step - loss: 0.6931 - accuracy: 0.5090\n",
            "Epoch 5/5\n",
            "32/32 [==============================] - 0s 4ms/step - loss: 0.6929 - accuracy: 0.5160\n",
            "32/32 [==============================] - 0s 2ms/step - loss: 0.6928 - accuracy: 0.5180\n",
            "accuracy: 51.8 %\n"
          ]
        }
      ]
    },
    {
      "cell_type": "code",
      "source": [],
      "metadata": {
        "id": "EYRDtdGqCcww"
      },
      "execution_count": null,
      "outputs": []
    },
    {
      "cell_type": "markdown",
      "source": [
        "# Pytorch版本"
      ],
      "metadata": {
        "id": "DOC3VIIlC3TA"
      }
    },
    {
      "cell_type": "code",
      "source": [
        "import numpy as np\n",
        "import torch\n",
        "import torch.nn as nn\n",
        "import torch.optim as optim\n",
        "\n",
        "# Generate some random data for training\n",
        "# 1000 samples with 3 features\n",
        "X_train = torch.rand(1000, 3)\n",
        "y_train = torch.randint(0, 2, (1000, 1), dtype=torch.float32)\n",
        "\n",
        "# # Define the neural network\n",
        "class torchNN(nn.Module):\n",
        "  def __init__(self):\n",
        "    super(torchNN, self).__init__()\n",
        "    self.fc1 = nn.Linear(3, 4)  # 輸入層與第一個隱藏層\n",
        "    self.fc2 = nn.Linear(4, 4)  # 第二個隱藏層\n",
        "    self.fc3 = nn.Linear(4, 1)  # 輸出層\n",
        "  # Apply ReLU activation function\n",
        "  def forward(self, x):\n",
        "    x = torch.relu(self.fc1(x))\n",
        "    x = torch.relu(self.fc2(x))\n",
        "    x = torch.sigmoid(self.fc3(x))\n",
        "    return x\n",
        "\n",
        "# Create the model\n",
        "model = torchNN()\n",
        "\n",
        "# Define the loss function and the optimizer\n",
        "criterion = nn.BCELoss()\n",
        "optimizer = optim.Adam(model.parameters())\n",
        "\n",
        "# Training loop\n",
        "for epoch in range(5):\n",
        "  # Forward pass\n",
        "  outputs = model(X_train)\n",
        "  loss = criterion(outputs, y_train)\n",
        "\n",
        "  # Backward pass and optimize\n",
        "  optimizer.zero_grad()\n",
        "  loss.backward()\n",
        "  optimizer.step()\n",
        "  print(f'Epoch {epoch + 1}, Loss: {loss.item()}')\n",
        "\n",
        "# Evaluate the model\n",
        "with torch.no_grad():\n",
        "  outputs = model(X_train)\n",
        "  predicted = (outputs >= 0.5).float()\n",
        "  accuracy = (predicted == y_train).sum().item() / y_train.size(0)\n",
        "\n",
        "print(f\"\\nAccuracy: {accuracy * 100:.2f}%\")"
      ],
      "metadata": {
        "colab": {
          "base_uri": "https://localhost:8080/"
        },
        "id": "w54kZXNkC5c3",
        "outputId": "dd658055-a31d-4952-bad7-b65e511c35cd"
      },
      "execution_count": null,
      "outputs": [
        {
          "output_type": "stream",
          "name": "stdout",
          "text": [
            "Epoch 1, Loss: 0.703974187374115\n",
            "Epoch 2, Loss: 0.7037410140037537\n",
            "Epoch 3, Loss: 0.7035107016563416\n",
            "Epoch 4, Loss: 0.703282356262207\n",
            "Epoch 5, Loss: 0.703056275844574\n",
            "\n",
            "Accuracy: 50.30%\n"
          ]
        }
      ]
    },
    {
      "cell_type": "code",
      "source": [],
      "metadata": {
        "id": "2oEcb0kqDs8m"
      },
      "execution_count": null,
      "outputs": []
    },
    {
      "cell_type": "code",
      "source": [
        "# 評估模型\n",
        "mse_test = model_keras.evaluate(X_test, y_test)\n",
        "print(f'Test MSE: {mse_test[0]:.4f}')"
      ],
      "metadata": {
        "colab": {
          "base_uri": "https://localhost:8080/"
        },
        "id": "DddC0IT0I2pH",
        "outputId": "64a604dd-1486-4da1-a9c1-4c6e320bab62"
      },
      "execution_count": null,
      "outputs": [
        {
          "output_type": "stream",
          "name": "stdout",
          "text": [
            "129/129 [==============================] - 1s 4ms/step - loss: 0.6204 - mean_squared_error: 0.6204\n",
            "Test MSE: 0.6204\n"
          ]
        }
      ]
    },
    {
      "cell_type": "code",
      "source": [
        "model_keras.summary()"
      ],
      "metadata": {
        "colab": {
          "base_uri": "https://localhost:8080/"
        },
        "id": "7zosRsiFJO4M",
        "outputId": "28c526a9-6f42-4c11-8cdc-9df09e84b300"
      },
      "execution_count": null,
      "outputs": [
        {
          "output_type": "stream",
          "name": "stdout",
          "text": [
            "Model: \"sequential_7\"\n",
            "_________________________________________________________________\n",
            " Layer (type)                Output Shape              Param #   \n",
            "=================================================================\n",
            " dense_18 (Dense)            (None, 8)                 72        \n",
            "                                                                 \n",
            " dropout_4 (Dropout)         (None, 8)                 0         \n",
            "                                                                 \n",
            " dense_19 (Dense)            (None, 8)                 72        \n",
            "                                                                 \n",
            " dropout_5 (Dropout)         (None, 8)                 0         \n",
            "                                                                 \n",
            " dense_20 (Dense)            (None, 1)                 9         \n",
            "                                                                 \n",
            "=================================================================\n",
            "Total params: 153 (612.00 Byte)\n",
            "Trainable params: 153 (612.00 Byte)\n",
            "Non-trainable params: 0 (0.00 Byte)\n",
            "_________________________________________________________________\n"
          ]
        }
      ]
    },
    {
      "cell_type": "markdown",
      "source": [
        "## 比較LGBM模型"
      ],
      "metadata": {
        "id": "co-xPR-WJLi_"
      }
    },
    {
      "cell_type": "code",
      "source": [
        "import lightgbm as lgb\n",
        "from sklearn.metrics import mean_squared_error\n",
        "\n",
        "lgb_train = lgb.Dataset(X_train, y_train)\n",
        "\n",
        "# 模型參數\n",
        "params = {\n",
        "    'boosting_type': 'gbdt',\n",
        "    'objective': 'regression', #數值預測\n",
        "    'metric': {'mse'},\n",
        "    'num_leaves': 32, #葉子最大數量，複雜程度\n",
        "    'learning_rate': 0.01 #\n",
        "}\n",
        "\n",
        "# 訓練模型\n",
        "gbm = lgb.train(params,\n",
        "          lgb_train,\n",
        "          num_boost_round=100 #樹的數量\n",
        "          )\n",
        "\n",
        "\n",
        "# 預測\n",
        "y_pred = gbm.predict(X_test, num_iteration=gbm.best_iteration)\n",
        "mse_test = mean_squared_error(y_test, y_pred)\n",
        "print(f'The mean squared error (MSE) on test set: {mse_test}')"
      ],
      "metadata": {
        "colab": {
          "base_uri": "https://localhost:8080/"
        },
        "id": "oOrKAeEPI9H4",
        "outputId": "f9273bc6-d701-40c4-9dbb-1ee967ab58cc"
      },
      "execution_count": null,
      "outputs": [
        {
          "output_type": "stream",
          "name": "stdout",
          "text": [
            "[LightGBM] [Info] Auto-choosing col-wise multi-threading, the overhead of testing was 0.004514 seconds.\n",
            "You can set `force_col_wise=true` to remove the overhead.\n",
            "[LightGBM] [Info] Total Bins 1838\n",
            "[LightGBM] [Info] Number of data points in the train set: 16512, number of used features: 8\n",
            "[LightGBM] [Info] Start training from score 2.071947\n",
            "The mean squared error (MSE) on test set: 0.514552079425033\n"
          ]
        }
      ]
    },
    {
      "cell_type": "code",
      "source": [],
      "metadata": {
        "id": "CVhYP2HNJxKF"
      },
      "execution_count": null,
      "outputs": []
    },
    {
      "cell_type": "markdown",
      "source": [
        "## Pytorch版本"
      ],
      "metadata": {
        "id": "8LlQDSGAKFom"
      }
    },
    {
      "cell_type": "code",
      "source": [
        "import torch\n",
        "import torch.nn as nn\n",
        "import torch.optim as optim\n",
        "from torch.utils.data import DataLoader, TensorDataset\n",
        "\n",
        "# 建立模型\n",
        "class torchLIN(nn.Module):\n",
        "    def __init__(self, input_dim):\n",
        "        super(torchLIN, self).__init__()\n",
        "        self.layer1 = nn.Sequential(\n",
        "            nn.Linear(input_dim, 8),\n",
        "            nn.ReLU(),\n",
        "            nn.Dropout(0.5)\n",
        "        )\n",
        "        self.layer2 = nn.Sequential(\n",
        "            nn.Linear(8, 8),\n",
        "            nn.ReLU(),\n",
        "            nn.Dropout(0.5)\n",
        "        )\n",
        "        self.output = nn.Linear(8, 1)\n",
        "\n",
        "    def forward(self, x):\n",
        "        x = self.layer1(x)\n",
        "        x = self.layer2(x)\n",
        "        x = self.output(x)\n",
        "        return x\n",
        "\n",
        "# 數據轉為張量\n",
        "tensor_x_train = torch.Tensor(X_train)\n",
        "tensor_y_train = torch.Tensor(y_train.values)\n",
        "tensor_x_test = torch.Tensor(X_test)\n",
        "tensor_y_test = torch.Tensor(y_test.values)\n",
        "\n",
        "tensor_train = TensorDataset(tensor_x_train, tensor_y_train)\n",
        "tensor_test = TensorDataset(tensor_x_test, tensor_y_test)\n",
        "\n",
        "# 建立訓練及測試資料集\n",
        "train_loader = DataLoader(dataset=tensor_train, batch_size=32, shuffle=True)\n",
        "test_loader = DataLoader(dataset=tensor_test, batch_size=32, shuffle=False)\n",
        "\n",
        "# 輸入模型\n",
        "model = torchLIN(input_dim=X_train.shape[1])\n",
        "\n",
        "# 定義優化器及損失函數\n",
        "optimizer = optim.Adam(model.parameters())\n",
        "loss_fn = nn.MSELoss()\n",
        "\n",
        "# 訓練模型\n",
        "n_epochs = 30\n",
        "\n",
        "for epoch in range(n_epochs):\n",
        "    model.train()\n",
        "    for data, target in train_loader:\n",
        "        optimizer.zero_grad()\n",
        "        output = model(data)\n",
        "        loss = loss_fn(output, target)\n",
        "        loss.backward()\n",
        "        optimizer.step()\n",
        "\n",
        "    print(f'Epoch {epoch+1}: Loss: {loss.item():.4f}')\n",
        "\n",
        "# 測試模型\n",
        "model.eval()\n",
        "test_loss = 0\n",
        "with torch.no_grad():\n",
        "    for data, target in test_loader:\n",
        "        output = model(data)\n",
        "        test_loss += loss_fn(output, target).item()\n",
        "\n",
        "test_loss /= len(test_loader.dataset)\n",
        "print(f'Test MSE: {test_loss:.4f}')"
      ],
      "metadata": {
        "colab": {
          "base_uri": "https://localhost:8080/"
        },
        "id": "8KwdQXEJKIDm",
        "outputId": "e9a4cd0e-68e7-44c1-e0fa-abe0a3b79b4a"
      },
      "execution_count": null,
      "outputs": [
        {
          "output_type": "stream",
          "name": "stderr",
          "text": [
            "/usr/local/lib/python3.10/dist-packages/torch/nn/modules/loss.py:535: UserWarning: Using a target size (torch.Size([32])) that is different to the input size (torch.Size([32, 1])). This will likely lead to incorrect results due to broadcasting. Please ensure they have the same size.\n",
            "  return F.mse_loss(input, target, reduction=self.reduction)\n"
          ]
        },
        {
          "output_type": "stream",
          "name": "stdout",
          "text": [
            "Epoch 1: Loss: 1.7277\n",
            "Epoch 2: Loss: 1.6748\n",
            "Epoch 3: Loss: 1.4424\n",
            "Epoch 4: Loss: 1.8637\n",
            "Epoch 5: Loss: 1.4910\n",
            "Epoch 6: Loss: 1.2161\n",
            "Epoch 7: Loss: 1.3130\n",
            "Epoch 8: Loss: 1.3533\n",
            "Epoch 9: Loss: 0.9126\n",
            "Epoch 10: Loss: 1.0960\n",
            "Epoch 11: Loss: 1.6403\n",
            "Epoch 12: Loss: 1.5278\n",
            "Epoch 13: Loss: 1.0963\n",
            "Epoch 14: Loss: 1.2630\n",
            "Epoch 15: Loss: 1.1440\n",
            "Epoch 16: Loss: 1.4228\n",
            "Epoch 17: Loss: 2.0711\n",
            "Epoch 18: Loss: 1.2349\n",
            "Epoch 19: Loss: 0.7814\n",
            "Epoch 20: Loss: 1.2491\n",
            "Epoch 21: Loss: 1.5895\n",
            "Epoch 22: Loss: 1.1770\n",
            "Epoch 23: Loss: 0.7650\n",
            "Epoch 24: Loss: 1.6206\n",
            "Epoch 25: Loss: 1.3720\n",
            "Epoch 26: Loss: 1.3792\n",
            "Epoch 27: Loss: 0.5647\n",
            "Epoch 28: Loss: 0.8739\n",
            "Epoch 29: Loss: 1.6053\n",
            "Epoch 30: Loss: 1.4647\n",
            "Test MSE: 0.0409\n"
          ]
        }
      ]
    },
    {
      "cell_type": "code",
      "source": [],
      "metadata": {
        "id": "FF4JTt5OKK8S"
      },
      "execution_count": null,
      "outputs": []
    }
  ]
}