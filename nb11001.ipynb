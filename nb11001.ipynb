{
  "nbformat": 4,
  "nbformat_minor": 0,
  "metadata": {
    "colab": {
      "provenance": [],
      "gpuType": "T4",
      "toc_visible": true
    },
    "kernelspec": {
      "name": "python3",
      "display_name": "Python 3"
    },
    "language_info": {
      "name": "python"
    },
    "accelerator": "GPU"
  },
  "cells": [
    {
      "cell_type": "markdown",
      "source": [
        "# 環境確認"
      ],
      "metadata": {
        "id": "bZ_MVPxfXRyM"
      }
    },
    {
      "cell_type": "code",
      "source": [
        "!nvidia-smi"
      ],
      "metadata": {
        "id": "RPNox-uKNlY1",
        "colab": {
          "base_uri": "https://localhost:8080/"
        },
        "outputId": "bd6a87f0-6258-45f4-f0fa-8e7ef08b4f06"
      },
      "execution_count": 1,
      "outputs": [
        {
          "output_type": "stream",
          "name": "stdout",
          "text": [
            "Wed Nov  8 15:28:16 2023       \n",
            "+-----------------------------------------------------------------------------+\n",
            "| NVIDIA-SMI 525.105.17   Driver Version: 525.105.17   CUDA Version: 12.0     |\n",
            "|-------------------------------+----------------------+----------------------+\n",
            "| GPU  Name        Persistence-M| Bus-Id        Disp.A | Volatile Uncorr. ECC |\n",
            "| Fan  Temp  Perf  Pwr:Usage/Cap|         Memory-Usage | GPU-Util  Compute M. |\n",
            "|                               |                      |               MIG M. |\n",
            "|===============================+======================+======================|\n",
            "|   0  Tesla T4            Off  | 00000000:00:04.0 Off |                    0 |\n",
            "| N/A   58C    P8    12W /  70W |      0MiB / 15360MiB |      0%      Default |\n",
            "|                               |                      |                  N/A |\n",
            "+-------------------------------+----------------------+----------------------+\n",
            "                                                                               \n",
            "+-----------------------------------------------------------------------------+\n",
            "| Processes:                                                                  |\n",
            "|  GPU   GI   CI        PID   Type   Process name                  GPU Memory |\n",
            "|        ID   ID                                                   Usage      |\n",
            "|=============================================================================|\n",
            "|  No running processes found                                                 |\n",
            "+-----------------------------------------------------------------------------+\n"
          ]
        }
      ]
    },
    {
      "cell_type": "markdown",
      "source": [
        "確認是否有Tensorflow、Pytorch的套件"
      ],
      "metadata": {
        "id": "KTihZ_HLXlf-"
      }
    },
    {
      "cell_type": "code",
      "source": [
        "import tensorflow as tf\n",
        "print('Tensorflow版本為:', tf.__version__)\n",
        "\n",
        "import torch\n",
        "print('Pytorch版本為:', torch.__version__)"
      ],
      "metadata": {
        "id": "zS_DOltgXsMe",
        "colab": {
          "base_uri": "https://localhost:8080/"
        },
        "outputId": "04234cb5-d380-4150-ed5d-961036f56830"
      },
      "execution_count": 2,
      "outputs": [
        {
          "output_type": "stream",
          "name": "stdout",
          "text": [
            "Tensorflow版本為: 2.14.0\n",
            "Pytorch版本為: 2.1.0+cu118\n"
          ]
        }
      ]
    },
    {
      "cell_type": "markdown",
      "source": [
        "確認Tensorflow、Pytorch能否調用GPU"
      ],
      "metadata": {
        "id": "pxE9SBORXY4Q"
      }
    },
    {
      "cell_type": "code",
      "source": [
        "print(\"Tensorflow是否可使用GPU:\", tf.test.is_gpu_available())\n",
        "print(\"Pytorch是否可使用GPU:\", torch.cuda.is_available())"
      ],
      "metadata": {
        "id": "ofI5iO0sONmq",
        "colab": {
          "base_uri": "https://localhost:8080/"
        },
        "outputId": "b7129778-90b6-4df6-84ea-9fff54c45708"
      },
      "execution_count": 3,
      "outputs": [
        {
          "output_type": "stream",
          "name": "stderr",
          "text": [
            "WARNING:tensorflow:From <ipython-input-3-c7c4f8b347a0>:1: is_gpu_available (from tensorflow.python.framework.test_util) is deprecated and will be removed in a future version.\n",
            "Instructions for updating:\n",
            "Use `tf.config.list_physical_devices('GPU')` instead.\n"
          ]
        },
        {
          "output_type": "stream",
          "name": "stdout",
          "text": [
            "Tensorflow是否可使用GPU: True\n",
            "Pytorch是否可使用GPU: True\n"
          ]
        }
      ]
    },
    {
      "cell_type": "code",
      "source": [],
      "metadata": {
        "id": "ZJesLhd8Y1Jb"
      },
      "execution_count": 3,
      "outputs": []
    },
    {
      "cell_type": "markdown",
      "source": [
        "# 建立一個簡單的ANN模型"
      ],
      "metadata": {
        "id": "fYQSB_ZhYlKo"
      }
    },
    {
      "cell_type": "code",
      "source": [
        "from tensorflow.keras.models import Sequential\n",
        "from tensorflow.keras.layers import Dense\n",
        "import numpy as np"
      ],
      "metadata": {
        "id": "UlLba9FeY4q-"
      },
      "execution_count": 4,
      "outputs": []
    },
    {
      "cell_type": "markdown",
      "source": [
        "建立假資料，包含3個x及1個y的二元分類問題"
      ],
      "metadata": {
        "id": "p6eb1fHsZVAm"
      }
    },
    {
      "cell_type": "code",
      "source": [
        "# Generate some random data for training\n",
        "# 1000 samples with 3 features\n",
        "X_train = np.random.random((1000, 3))\n",
        "# Binary labels (0 or 1)\n",
        "y_train = np.random.randint(2, size=(1000, 1))"
      ],
      "metadata": {
        "id": "1kDLn85NYlIA"
      },
      "execution_count": 5,
      "outputs": []
    },
    {
      "cell_type": "markdown",
      "source": [
        "![1.png](data:image/png;base64,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)"
      ],
      "metadata": {
        "id": "O7iZNBPpbs2u"
      }
    },
    {
      "cell_type": "markdown",
      "source": [
        "做一個2層hidden layer的神經網路模型<br>\n",
        "每層有4個神經元，激活函數使relu<br>\n",
        "最後用sigmoid輸出二元分類的預測"
      ],
      "metadata": {
        "id": "2t3TsUGObV_K"
      }
    },
    {
      "cell_type": "code",
      "source": [
        "# 創建一個模型\n",
        "model = Sequential()\n",
        "\n",
        "# 增加一層4個神經元的隱藏層，激活函數使用relu\n",
        "model.add(Dense(4, activation='relu'))\n",
        "\n",
        "# 再增加一層4個神經元的隱藏層，激活函數使用relu\n",
        "model.add(Dense(4, activation='relu'))\n",
        "\n",
        "# 為了進行分類，增加一個輸出層，激活函數使用sigmoid\n",
        "model.add(Dense(1, activation='sigmoid'))"
      ],
      "metadata": {
        "id": "3hcyg6FKYlFq"
      },
      "execution_count": 6,
      "outputs": []
    },
    {
      "cell_type": "markdown",
      "source": [
        "損失函數：二元分類問題，使用binary_crossentropy <br>\n",
        "優化器：選擇流行的adam <br>\n",
        "衡量指標：選擇經典的準確率accuracy"
      ],
      "metadata": {
        "id": "l5Jy7fshcIb1"
      }
    },
    {
      "cell_type": "code",
      "source": [
        "# 編譯模型\n",
        "model.compile(loss='binary_crossentropy', optimizer='adam', metrics=['accuracy'])"
      ],
      "metadata": {
        "id": "VEIggdU7YlDS"
      },
      "execution_count": 7,
      "outputs": []
    },
    {
      "cell_type": "markdown",
      "source": [
        "開始進行訓練"
      ],
      "metadata": {
        "id": "oNZ1EYsVdCL6"
      }
    },
    {
      "cell_type": "code",
      "source": [
        "# 訓練模型\n",
        "model.fit(X_train, y_train, epochs=10, batch_size=5)"
      ],
      "metadata": {
        "id": "_PQmjB64YlA4",
        "colab": {
          "base_uri": "https://localhost:8080/"
        },
        "outputId": "b5a9fca5-c45c-4409-ba0d-b9d17d1d906b"
      },
      "execution_count": 8,
      "outputs": [
        {
          "output_type": "stream",
          "name": "stdout",
          "text": [
            "Epoch 1/10\n",
            "200/200 [==============================] - 10s 3ms/step - loss: 0.6937 - accuracy: 0.5140\n",
            "Epoch 2/10\n",
            "200/200 [==============================] - 1s 3ms/step - loss: 0.6910 - accuracy: 0.5120\n",
            "Epoch 3/10\n",
            "200/200 [==============================] - 1s 3ms/step - loss: 0.6911 - accuracy: 0.5180\n",
            "Epoch 4/10\n",
            "200/200 [==============================] - 1s 3ms/step - loss: 0.6905 - accuracy: 0.5160\n",
            "Epoch 5/10\n",
            "200/200 [==============================] - 1s 3ms/step - loss: 0.6901 - accuracy: 0.5250\n",
            "Epoch 6/10\n",
            "200/200 [==============================] - 1s 3ms/step - loss: 0.6897 - accuracy: 0.5320\n",
            "Epoch 7/10\n",
            "200/200 [==============================] - 1s 3ms/step - loss: 0.6902 - accuracy: 0.5130\n",
            "Epoch 8/10\n",
            "200/200 [==============================] - 1s 3ms/step - loss: 0.6895 - accuracy: 0.5250\n",
            "Epoch 9/10\n",
            "200/200 [==============================] - 1s 3ms/step - loss: 0.6895 - accuracy: 0.5370\n",
            "Epoch 10/10\n",
            "200/200 [==============================] - 1s 3ms/step - loss: 0.6893 - accuracy: 0.5220\n"
          ]
        },
        {
          "output_type": "execute_result",
          "data": {
            "text/plain": [
              "<keras.src.callbacks.History at 0x789ce8117af0>"
            ]
          },
          "metadata": {},
          "execution_count": 8
        }
      ]
    },
    {
      "cell_type": "markdown",
      "source": [
        "衡量模型指標，顯示最後的準確率結果"
      ],
      "metadata": {
        "id": "z16e5f6BdGO1"
      }
    },
    {
      "cell_type": "code",
      "source": [
        "# 評估模型，使用訓練資料\n",
        "scores = model.evaluate(X_train, y_train)\n",
        "print(\"accuracy:\" , round(scores[1]*100,4),'%')"
      ],
      "metadata": {
        "id": "jsP0JTJRYk9-",
        "colab": {
          "base_uri": "https://localhost:8080/"
        },
        "outputId": "2420243b-dce3-47d5-9b4f-77855945f5b9"
      },
      "execution_count": 9,
      "outputs": [
        {
          "output_type": "stream",
          "name": "stdout",
          "text": [
            "32/32 [==============================] - 0s 2ms/step - loss: 0.6885 - accuracy: 0.5230\n",
            "accuracy: 52.3 %\n"
          ]
        }
      ]
    },
    {
      "cell_type": "markdown",
      "source": [
        "Keras的模型結構預覽"
      ],
      "metadata": {
        "id": "-x6BoeLod0X_"
      }
    },
    {
      "cell_type": "code",
      "source": [
        "model.summary()"
      ],
      "metadata": {
        "id": "5wyA_35BPsWy",
        "colab": {
          "base_uri": "https://localhost:8080/"
        },
        "outputId": "4a441a1f-3aa5-44d9-96fe-9af8f74a519f"
      },
      "execution_count": 10,
      "outputs": [
        {
          "output_type": "stream",
          "name": "stdout",
          "text": [
            "Model: \"sequential\"\n",
            "_________________________________________________________________\n",
            " Layer (type)                Output Shape              Param #   \n",
            "=================================================================\n",
            " dense (Dense)               (None, 4)                 16        \n",
            "                                                                 \n",
            " dense_1 (Dense)             (None, 4)                 20        \n",
            "                                                                 \n",
            " dense_2 (Dense)             (None, 1)                 5         \n",
            "                                                                 \n",
            "=================================================================\n",
            "Total params: 41 (164.00 Byte)\n",
            "Trainable params: 41 (164.00 Byte)\n",
            "Non-trainable params: 0 (0.00 Byte)\n",
            "_________________________________________________________________\n"
          ]
        }
      ]
    },
    {
      "cell_type": "markdown",
      "source": [
        "模型結構圖"
      ],
      "metadata": {
        "id": "aUloK4VId5K8"
      }
    },
    {
      "cell_type": "code",
      "source": [
        "from keras.utils import plot_model\n",
        "\n",
        "plot_model(model, show_shapes=True, show_layer_names=True, show_layer_activations=True)"
      ],
      "metadata": {
        "id": "ojFL7XYcTymy",
        "colab": {
          "base_uri": "https://localhost:8080/",
          "height": 422
        },
        "outputId": "7a53c588-bae9-443d-f55a-eba1fdf9d333"
      },
      "execution_count": 11,
      "outputs": [
        {
          "output_type": "execute_result",
          "data": {
            "image/png": "[encoded data removed]",
            "text/plain": [
              "<IPython.core.display.Image object>"
            ]
          },
          "metadata": {},
          "execution_count": 11
        }
      ]
    },
    {
      "cell_type": "markdown",
      "source": [
        "喜歡躺著看的也可以，但是太多層不適合"
      ],
      "metadata": {
        "id": "2kbSKu2YeBu9"
      }
    },
    {
      "cell_type": "code",
      "source": [
        "plot_model(model, show_shapes=True, show_layer_names=True, show_layer_activations=True, rankdir='LR')"
      ],
      "metadata": {
        "id": "eBU70AqKd_vV",
        "colab": {
          "base_uri": "https://localhost:8080/",
          "height": 152
        },
        "outputId": "25d6f5a4-fa12-40f3-c5bb-f49da4f9c2a0"
      },
      "execution_count": 12,
      "outputs": [
        {
          "output_type": "execute_result",
          "data": {
            "image/png": "[encoded data removed]",
            "text/plain": [
              "<IPython.core.display.Image object>"
            ]
          },
          "metadata": {},
          "execution_count": 12
        }
      ]
    },
    {
      "cell_type": "markdown",
      "source": [
        "將上面所有程式碼進行整合 <br>\n",
        "重新看一次模型結構"
      ],
      "metadata": {
        "id": "cA1YyV7SdOUw"
      }
    },
    {
      "cell_type": "code",
      "source": [
        "from tensorflow.keras.models import Sequential\n",
        "from tensorflow.keras.layers import Dense\n",
        "import numpy as np\n",
        "\n",
        "# 產生隨機的訓練資料\n",
        "X_train = np.random.random((1000, 3))\n",
        "# Binary labels (0 or 1)\n",
        "y_train = np.random.randint(2, size=(1000, 1))\n",
        "\n",
        "# 建立模型\n",
        "model = Sequential()\n",
        "\n",
        "# 第一層隱藏層，4個神經元，激活函數為relu\n",
        "model.add(Dense(4, activation='relu'))\n",
        "\n",
        "# 第二層隱藏層，4個神經元，激活函數為relu\n",
        "model.add(Dense(4, activation='relu'))\n",
        "\n",
        "# 輸出層，使用sigmoid輸出0-1的二元機率\n",
        "model.add(Dense(1, activation='sigmoid'))\n",
        "\n",
        "# 編譯模型\n",
        "model.compile(loss='binary_crossentropy', optimizer='adam', metrics=['accuracy'])\n",
        "\n",
        "# 訓練模型\n",
        "model.fit(X_train, y_train, epochs=10, batch_size=5)\n",
        "\n",
        "# 使用評估模型，這邊用訓練資料\n",
        "scores = model.evaluate(X_train, y_train)\n",
        "print(\"accuracy:\" , round(scores[1]*100,4),'%')"
      ],
      "metadata": {
        "id": "JutOSSZBYk7Q",
        "colab": {
          "base_uri": "https://localhost:8080/"
        },
        "outputId": "9c756dad-9cad-4e1e-db44-abc9cb87c05d"
      },
      "execution_count": 13,
      "outputs": [
        {
          "output_type": "stream",
          "name": "stdout",
          "text": [
            "Epoch 1/10\n",
            "200/200 [==============================] - 1s 3ms/step - loss: 0.6942 - accuracy: 0.5010\n",
            "Epoch 2/10\n",
            "200/200 [==============================] - 1s 3ms/step - loss: 0.6936 - accuracy: 0.5060\n",
            "Epoch 3/10\n",
            "200/200 [==============================] - 1s 3ms/step - loss: 0.6935 - accuracy: 0.4980\n",
            "Epoch 4/10\n",
            "200/200 [==============================] - 1s 3ms/step - loss: 0.6934 - accuracy: 0.4850\n",
            "Epoch 5/10\n",
            "200/200 [==============================] - 1s 3ms/step - loss: 0.6934 - accuracy: 0.4850\n",
            "Epoch 6/10\n",
            "200/200 [==============================] - 1s 3ms/step - loss: 0.6935 - accuracy: 0.4840\n",
            "Epoch 7/10\n",
            "200/200 [==============================] - 1s 3ms/step - loss: 0.6933 - accuracy: 0.5010\n",
            "Epoch 8/10\n",
            "200/200 [==============================] - 1s 3ms/step - loss: 0.6932 - accuracy: 0.4820\n",
            "Epoch 9/10\n",
            "200/200 [==============================] - 1s 4ms/step - loss: 0.6932 - accuracy: 0.5090\n",
            "Epoch 10/10\n",
            "200/200 [==============================] - 1s 4ms/step - loss: 0.6932 - accuracy: 0.4920\n",
            "32/32 [==============================] - 0s 2ms/step - loss: 0.6930 - accuracy: 0.4980\n",
            "accuracy: 49.8 %\n"
          ]
        }
      ]
    },
    {
      "cell_type": "code",
      "source": [],
      "metadata": {
        "id": "AxEf4wWGDdR1"
      },
      "execution_count": 13,
      "outputs": []
    },
    {
      "cell_type": "code",
      "source": [],
      "metadata": {
        "id": "N_QKtY9FDdT5"
      },
      "execution_count": 13,
      "outputs": []
    },
    {
      "cell_type": "markdown",
      "source": [
        "# Pytorch版本"
      ],
      "metadata": {
        "id": "R4hQCnzceKrb"
      }
    },
    {
      "cell_type": "code",
      "source": [
        "import numpy as np\n",
        "import torch\n",
        "import torch.nn as nn\n",
        "import torch.optim as optim\n",
        "\n",
        "# Generate some random data for training\n",
        "# 1000 samples with 3 features\n",
        "X_train = torch.rand(1000, 3)\n",
        "y_train = torch.randint(0, 2, (1000, 1), dtype=torch.float32)\n",
        "\n",
        "# # Define the neural network\n",
        "class torchNN(nn.Module):\n",
        "  def __init__(self):\n",
        "    super(torchNN, self).__init__()\n",
        "    self.fc1 = nn.Linear(3, 4)  # 輸入層與第一個隱藏層\n",
        "    self.fc2 = nn.Linear(4, 4)  # 第二個隱藏層\n",
        "    self.fc3 = nn.Linear(4, 1)  # 輸出層\n",
        "  # Apply ReLU activation function\n",
        "  def forward(self, x):\n",
        "    x = torch.relu(self.fc1(x))\n",
        "    x = torch.relu(self.fc2(x))\n",
        "    x = torch.sigmoid(self.fc3(x))\n",
        "    return x\n",
        "\n",
        "# Create the model\n",
        "model = torchNN()\n",
        "\n",
        "# Define the loss function and the optimizer\n",
        "criterion = nn.BCELoss()\n",
        "optimizer = optim.Adam(model.parameters())\n",
        "\n",
        "# Training loop\n",
        "for epoch in range(10):\n",
        "  # Forward pass\n",
        "  outputs = model(X_train)\n",
        "  loss = criterion(outputs, y_train)\n",
        "\n",
        "  # Backward pass and optimize\n",
        "  optimizer.zero_grad()\n",
        "  loss.backward()\n",
        "  optimizer.step()\n",
        "  print(f'Epoch {epoch + 1}, Loss: {loss.item()}')\n",
        "\n",
        "# Evaluate the model\n",
        "with torch.no_grad():\n",
        "  outputs = model(X_train)\n",
        "  predicted = (outputs >= 0.5).float()\n",
        "  accuracy = (predicted == y_train).sum().item() / y_train.size(0)\n",
        "\n",
        "print(f\"\\nAccuracy: {accuracy * 100:.2f}%\")\n"
      ],
      "metadata": {
        "id": "vNHYksySDdYH",
        "colab": {
          "base_uri": "https://localhost:8080/"
        },
        "outputId": "b1cdbf2c-9500-419b-ff84-2a76970ee2d4"
      },
      "execution_count": 14,
      "outputs": [
        {
          "output_type": "stream",
          "name": "stdout",
          "text": [
            "Epoch 1, Loss: 0.6972525119781494\n",
            "Epoch 2, Loss: 0.6971197724342346\n",
            "Epoch 3, Loss: 0.696989893913269\n",
            "Epoch 4, Loss: 0.6968623995780945\n",
            "Epoch 5, Loss: 0.6967366933822632\n",
            "Epoch 6, Loss: 0.6966124773025513\n",
            "Epoch 7, Loss: 0.6964906454086304\n",
            "Epoch 8, Loss: 0.6963716745376587\n",
            "Epoch 9, Loss: 0.6962552666664124\n",
            "Epoch 10, Loss: 0.6961410641670227\n",
            "\n",
            "Accuracy: 49.40%\n"
          ]
        }
      ]
    },
    {
      "cell_type": "code",
      "source": [],
      "metadata": {
        "id": "HSMs1pI_fHvL"
      },
      "execution_count": 14,
      "outputs": []
    },
    {
      "cell_type": "code",
      "source": [],
      "metadata": {
        "id": "idXXRY0u7GHu"
      },
      "execution_count": 14,
      "outputs": []
    },
    {
      "cell_type": "markdown",
      "source": [
        "# 實戰-Breast Cancer 良性惡性乳癌分類\n",
        "使用良性惡性乳癌資料進行分類實作 <br>\n",
        "https://www.kaggle.com/datasets/uciml/breast-cancer-wisconsin-data"
      ],
      "metadata": {
        "id": "2V0k_IyU7Hm7"
      }
    },
    {
      "cell_type": "code",
      "source": [
        "from sklearn.datasets import load_breast_cancer\n",
        "from sklearn.model_selection import train_test_split\n",
        "from sklearn.preprocessing import StandardScaler\n",
        "\n",
        "# 載入數據集\n",
        "data = load_breast_cancer(as_frame=True)\n",
        "X, y = data.data, data.target\n",
        "\n",
        "# 特徵標準化\n",
        "scaler = StandardScaler()\n",
        "X_scaled = scaler.fit_transform(X)\n",
        "\n",
        "# 切訓練及測試資料\n",
        "X_train, X_test, y_train, y_test = train_test_split(X_scaled, y, test_size=0.2, random_state=42)"
      ],
      "metadata": {
        "id": "zsSzFAfUvdp9"
      },
      "execution_count": 15,
      "outputs": []
    },
    {
      "cell_type": "code",
      "source": [
        "X.head()"
      ],
      "metadata": {
        "id": "-Vcq71CUvdsS",
        "colab": {
          "base_uri": "https://localhost:8080/",
          "height": 290
        },
        "outputId": "7ff4adb1-8f5b-4969-9007-c25291cebe69"
      },
      "execution_count": 16,
      "outputs": [
        {
          "output_type": "execute_result",
          "data": {
            "text/plain": [
              "   mean radius  mean texture  mean perimeter  mean area  mean smoothness  \\\n",
              "0        17.99         10.38          122.80     1001.0          0.11840   \n",
              "1        20.57         17.77          132.90     1326.0          0.08474   \n",
              "2        19.69         21.25          130.00     1203.0          0.10960   \n",
              "3        11.42         20.38           77.58      386.1          0.14250   \n",
              "4        20.29         14.34          135.10     1297.0          0.10030   \n",
              "\n",
              "   mean compactness  mean concavity  mean concave points  mean symmetry  \\\n",
              "0           0.27760          0.3001              0.14710         0.2419   \n",
              "1           0.07864          0.0869              0.07017         0.1812   \n",
              "2           0.15990          0.1974              0.12790         0.2069   \n",
              "3           0.28390          0.2414              0.10520         0.2597   \n",
              "4           0.13280          0.1980              0.10430         0.1809   \n",
              "\n",
              "   mean fractal dimension  ...  worst radius  worst texture  worst perimeter  \\\n",
              "0                 0.07871  ...         25.38          17.33           184.60   \n",
              "1                 0.05667  ...         24.99          23.41           158.80   \n",
              "2                 0.05999  ...         23.57          25.53           152.50   \n",
              "3                 0.09744  ...         14.91          26.50            98.87   \n",
              "4                 0.05883  ...         22.54          16.67           152.20   \n",
              "\n",
              "   worst area  worst smoothness  worst compactness  worst concavity  \\\n",
              "0      2019.0            0.1622             0.6656           0.7119   \n",
              "1      1956.0            0.1238             0.1866           0.2416   \n",
              "2      1709.0            0.1444             0.4245           0.4504   \n",
              "3       567.7            0.2098             0.8663           0.6869   \n",
              "4      1575.0            0.1374             0.2050           0.4000   \n",
              "\n",
              "   worst concave points  worst symmetry  worst fractal dimension  \n",
              "0                0.2654          0.4601                  0.11890  \n",
              "1                0.1860          0.2750                  0.08902  \n",
              "2                0.2430          0.3613                  0.08758  \n",
              "3                0.2575          0.6638                  0.17300  \n",
              "4                0.1625          0.2364                  0.07678  \n",
              "\n",
              "[5 rows x 30 columns]"
            ],
            "text/html": [
              "\n",
              "  <div id=\"df-3dda3439-4562-4403-856d-a282f13b9728\" class=\"colab-df-container\">\n",
              "    <div>\n",
              "<style scoped>\n",
              "    .dataframe tbody tr th:only-of-type {\n",
              "        vertical-align: middle;\n",
              "    }\n",
              "\n",
              "    .dataframe tbody tr th {\n",
              "        vertical-align: top;\n",
              "    }\n",
              "\n",
              "    .dataframe thead th {\n",
              "        text-align: right;\n",
              "    }\n",
              "</style>\n",
              "<table border=\"1\" class=\"dataframe\">\n",
              "  <thead>\n",
              "    <tr style=\"text-align: right;\">\n",
              "      <th></th>\n",
              "      <th>mean radius</th>\n",
              "      <th>mean texture</th>\n",
              "      <th>mean perimeter</th>\n",
              "      <th>mean area</th>\n",
              "      <th>mean smoothness</th>\n",
              "      <th>mean compactness</th>\n",
              "      <th>mean concavity</th>\n",
              "      <th>mean concave points</th>\n",
              "      <th>mean symmetry</th>\n",
              "      <th>mean fractal dimension</th>\n",
              "      <th>...</th>\n",
              "      <th>worst radius</th>\n",
              "      <th>worst texture</th>\n",
              "      <th>worst perimeter</th>\n",
              "      <th>worst area</th>\n",
              "      <th>worst smoothness</th>\n",
              "      <th>worst compactness</th>\n",
              "      <th>worst concavity</th>\n",
              "      <th>worst concave points</th>\n",
              "      <th>worst symmetry</th>\n",
              "      <th>worst fractal dimension</th>\n",
              "    </tr>\n",
              "  </thead>\n",
              "  <tbody>\n",
              "    <tr>\n",
              "      <th>0</th>\n",
              "      <td>17.99</td>\n",
              "      <td>10.38</td>\n",
              "      <td>122.80</td>\n",
              "      <td>1001.0</td>\n",
              "      <td>0.11840</td>\n",
              "      <td>0.27760</td>\n",
              "      <td>0.3001</td>\n",
              "      <td>0.14710</td>\n",
              "      <td>0.2419</td>\n",
              "      <td>0.07871</td>\n",
              "      <td>...</td>\n",
              "      <td>25.38</td>\n",
              "      <td>17.33</td>\n",
              "      <td>184.60</td>\n",
              "      <td>2019.0</td>\n",
              "      <td>0.1622</td>\n",
              "      <td>0.6656</td>\n",
              "      <td>0.7119</td>\n",
              "      <td>0.2654</td>\n",
              "      <td>0.4601</td>\n",
              "      <td>0.11890</td>\n",
              "    </tr>\n",
              "    <tr>\n",
              "      <th>1</th>\n",
              "      <td>20.57</td>\n",
              "      <td>17.77</td>\n",
              "      <td>132.90</td>\n",
              "      <td>1326.0</td>\n",
              "      <td>0.08474</td>\n",
              "      <td>0.07864</td>\n",
              "      <td>0.0869</td>\n",
              "      <td>0.07017</td>\n",
              "      <td>0.1812</td>\n",
              "      <td>0.05667</td>\n",
              "      <td>...</td>\n",
              "      <td>24.99</td>\n",
              "      <td>23.41</td>\n",
              "      <td>158.80</td>\n",
              "      <td>1956.0</td>\n",
              "      <td>0.1238</td>\n",
              "      <td>0.1866</td>\n",
              "      <td>0.2416</td>\n",
              "      <td>0.1860</td>\n",
              "      <td>0.2750</td>\n",
              "      <td>0.08902</td>\n",
              "    </tr>\n",
              "    <tr>\n",
              "      <th>2</th>\n",
              "      <td>19.69</td>\n",
              "      <td>21.25</td>\n",
              "      <td>130.00</td>\n",
              "      <td>1203.0</td>\n",
              "      <td>0.10960</td>\n",
              "      <td>0.15990</td>\n",
              "      <td>0.1974</td>\n",
              "      <td>0.12790</td>\n",
              "      <td>0.2069</td>\n",
              "      <td>0.05999</td>\n",
              "      <td>...</td>\n",
              "      <td>23.57</td>\n",
              "      <td>25.53</td>\n",
              "      <td>152.50</td>\n",
              "      <td>1709.0</td>\n",
              "      <td>0.1444</td>\n",
              "      <td>0.4245</td>\n",
              "      <td>0.4504</td>\n",
              "      <td>0.2430</td>\n",
              "      <td>0.3613</td>\n",
              "      <td>0.08758</td>\n",
              "    </tr>\n",
              "    <tr>\n",
              "      <th>3</th>\n",
              "      <td>11.42</td>\n",
              "      <td>20.38</td>\n",
              "      <td>77.58</td>\n",
              "      <td>386.1</td>\n",
              "      <td>0.14250</td>\n",
              "      <td>0.28390</td>\n",
              "      <td>0.2414</td>\n",
              "      <td>0.10520</td>\n",
              "      <td>0.2597</td>\n",
              "      <td>0.09744</td>\n",
              "      <td>...</td>\n",
              "      <td>14.91</td>\n",
              "      <td>26.50</td>\n",
              "      <td>98.87</td>\n",
              "      <td>567.7</td>\n",
              "      <td>0.2098</td>\n",
              "      <td>0.8663</td>\n",
              "      <td>0.6869</td>\n",
              "      <td>0.2575</td>\n",
              "      <td>0.6638</td>\n",
              "      <td>0.17300</td>\n",
              "    </tr>\n",
              "    <tr>\n",
              "      <th>4</th>\n",
              "      <td>20.29</td>\n",
              "      <td>14.34</td>\n",
              "      <td>135.10</td>\n",
              "      <td>1297.0</td>\n",
              "      <td>0.10030</td>\n",
              "      <td>0.13280</td>\n",
              "      <td>0.1980</td>\n",
              "      <td>0.10430</td>\n",
              "      <td>0.1809</td>\n",
              "      <td>0.05883</td>\n",
              "      <td>...</td>\n",
              "      <td>22.54</td>\n",
              "      <td>16.67</td>\n",
              "      <td>152.20</td>\n",
              "      <td>1575.0</td>\n",
              "      <td>0.1374</td>\n",
              "      <td>0.2050</td>\n",
              "      <td>0.4000</td>\n",
              "      <td>0.1625</td>\n",
              "      <td>0.2364</td>\n",
              "      <td>0.07678</td>\n",
              "    </tr>\n",
              "  </tbody>\n",
              "</table>\n",
              "<p>5 rows × 30 columns</p>\n",
              "</div>\n",
              "    <div class=\"colab-df-buttons\">\n",
              "\n",
              "  <div class=\"colab-df-container\">\n",
              "    <button class=\"colab-df-convert\" onclick=\"convertToInteractive('df-3dda3439-4562-4403-856d-a282f13b9728')\"\n",
              "            title=\"Convert this dataframe to an interactive table.\"\n",
              "            style=\"display:none;\">\n",
              "\n",
              "  <svg xmlns=\"http://www.w3.org/2000/svg\" height=\"24px\" viewBox=\"0 -960 960 960\">\n",
              "    <path d=\"M120-120v-720h720v720H120Zm60-500h600v-160H180v160Zm220 220h160v-160H400v160Zm0 220h160v-160H400v160ZM180-400h160v-160H180v160Zm440 0h160v-160H620v160ZM180-180h160v-160H180v160Zm440 0h160v-160H620v160Z\"/>\n",
              "  </svg>\n",
              "    </button>\n",
              "\n",
              "  <style>\n",
              "    .colab-df-container {\n",
              "      display:flex;\n",
              "      gap: 12px;\n",
              "    }\n",
              "\n",
              "    .colab-df-convert {\n",
              "      background-color: #E8F0FE;\n",
              "      border: none;\n",
              "      border-radius: 50%;\n",
              "      cursor: pointer;\n",
              "      display: none;\n",
              "      fill: #1967D2;\n",
              "      height: 32px;\n",
              "      padding: 0 0 0 0;\n",
              "      width: 32px;\n",
              "    }\n",
              "\n",
              "    .colab-df-convert:hover {\n",
              "      background-color: #E2EBFA;\n",
              "      box-shadow: 0px 1px 2px rgba(60, 64, 67, 0.3), 0px 1px 3px 1px rgba(60, 64, 67, 0.15);\n",
              "      fill: #174EA6;\n",
              "    }\n",
              "\n",
              "    .colab-df-buttons div {\n",
              "      margin-bottom: 4px;\n",
              "    }\n",
              "\n",
              "    [theme=dark] .colab-df-convert {\n",
              "      background-color: #3B4455;\n",
              "      fill: #D2E3FC;\n",
              "    }\n",
              "\n",
              "    [theme=dark] .colab-df-convert:hover {\n",
              "      background-color: #434B5C;\n",
              "      box-shadow: 0px 1px 3px 1px rgba(0, 0, 0, 0.15);\n",
              "      filter: drop-shadow(0px 1px 2px rgba(0, 0, 0, 0.3));\n",
              "      fill: #FFFFFF;\n",
              "    }\n",
              "  </style>\n",
              "\n",
              "    <script>\n",
              "      const buttonEl =\n",
              "        document.querySelector('#df-3dda3439-4562-4403-856d-a282f13b9728 button.colab-df-convert');\n",
              "      buttonEl.style.display =\n",
              "        google.colab.kernel.accessAllowed ? 'block' : 'none';\n",
              "\n",
              "      async function convertToInteractive(key) {\n",
              "        const element = document.querySelector('#df-3dda3439-4562-4403-856d-a282f13b9728');\n",
              "        const dataTable =\n",
              "          await google.colab.kernel.invokeFunction('convertToInteractive',\n",
              "                                                    [key], {});\n",
              "        if (!dataTable) return;\n",
              "\n",
              "        const docLinkHtml = 'Like what you see? Visit the ' +\n",
              "          '<a target=\"_blank\" href=https://colab.research.google.com/notebooks/data_table.ipynb>data table notebook</a>'\n",
              "          + ' to learn more about interactive tables.';\n",
              "        element.innerHTML = '';\n",
              "        dataTable['output_type'] = 'display_data';\n",
              "        await google.colab.output.renderOutput(dataTable, element);\n",
              "        const docLink = document.createElement('div');\n",
              "        docLink.innerHTML = docLinkHtml;\n",
              "        element.appendChild(docLink);\n",
              "      }\n",
              "    </script>\n",
              "  </div>\n",
              "\n",
              "\n",
              "<div id=\"df-17416fdd-99ef-45b9-ac38-ad7b902efbf6\">\n",
              "  <button class=\"colab-df-quickchart\" onclick=\"quickchart('df-17416fdd-99ef-45b9-ac38-ad7b902efbf6')\"\n",
              "            title=\"Suggest charts\"\n",
              "            style=\"display:none;\">\n",
              "\n",
              "<svg xmlns=\"http://www.w3.org/2000/svg\" height=\"24px\"viewBox=\"0 0 24 24\"\n",
              "     width=\"24px\">\n",
              "    <g>\n",
              "        <path d=\"M19 3H5c-1.1 0-2 .9-2 2v14c0 1.1.9 2 2 2h14c1.1 0 2-.9 2-2V5c0-1.1-.9-2-2-2zM9 17H7v-7h2v7zm4 0h-2V7h2v10zm4 0h-2v-4h2v4z\"/>\n",
              "    </g>\n",
              "</svg>\n",
              "  </button>\n",
              "\n",
              "<style>\n",
              "  .colab-df-quickchart {\n",
              "      --bg-color: #E8F0FE;\n",
              "      --fill-color: #1967D2;\n",
              "      --hover-bg-color: #E2EBFA;\n",
              "      --hover-fill-color: #174EA6;\n",
              "      --disabled-fill-color: #AAA;\n",
              "      --disabled-bg-color: #DDD;\n",
              "  }\n",
              "\n",
              "  [theme=dark] .colab-df-quickchart {\n",
              "      --bg-color: #3B4455;\n",
              "      --fill-color: #D2E3FC;\n",
              "      --hover-bg-color: #434B5C;\n",
              "      --hover-fill-color: #FFFFFF;\n",
              "      --disabled-bg-color: #3B4455;\n",
              "      --disabled-fill-color: #666;\n",
              "  }\n",
              "\n",
              "  .colab-df-quickchart {\n",
              "    background-color: var(--bg-color);\n",
              "    border: none;\n",
              "    border-radius: 50%;\n",
              "    cursor: pointer;\n",
              "    display: none;\n",
              "    fill: var(--fill-color);\n",
              "    height: 32px;\n",
              "    padding: 0;\n",
              "    width: 32px;\n",
              "  }\n",
              "\n",
              "  .colab-df-quickchart:hover {\n",
              "    background-color: var(--hover-bg-color);\n",
              "    box-shadow: 0 1px 2px rgba(60, 64, 67, 0.3), 0 1px 3px 1px rgba(60, 64, 67, 0.15);\n",
              "    fill: var(--button-hover-fill-color);\n",
              "  }\n",
              "\n",
              "  .colab-df-quickchart-complete:disabled,\n",
              "  .colab-df-quickchart-complete:disabled:hover {\n",
              "    background-color: var(--disabled-bg-color);\n",
              "    fill: var(--disabled-fill-color);\n",
              "    box-shadow: none;\n",
              "  }\n",
              "\n",
              "  .colab-df-spinner {\n",
              "    border: 2px solid var(--fill-color);\n",
              "    border-color: transparent;\n",
              "    border-bottom-color: var(--fill-color);\n",
              "    animation:\n",
              "      spin 1s steps(1) infinite;\n",
              "  }\n",
              "\n",
              "  @keyframes spin {\n",
              "    0% {\n",
              "      border-color: transparent;\n",
              "      border-bottom-color: var(--fill-color);\n",
              "      border-left-color: var(--fill-color);\n",
              "    }\n",
              "    20% {\n",
              "      border-color: transparent;\n",
              "      border-left-color: var(--fill-color);\n",
              "      border-top-color: var(--fill-color);\n",
              "    }\n",
              "    30% {\n",
              "      border-color: transparent;\n",
              "      border-left-color: var(--fill-color);\n",
              "      border-top-color: var(--fill-color);\n",
              "      border-right-color: var(--fill-color);\n",
              "    }\n",
              "    40% {\n",
              "      border-color: transparent;\n",
              "      border-right-color: var(--fill-color);\n",
              "      border-top-color: var(--fill-color);\n",
              "    }\n",
              "    60% {\n",
              "      border-color: transparent;\n",
              "      border-right-color: var(--fill-color);\n",
              "    }\n",
              "    80% {\n",
              "      border-color: transparent;\n",
              "      border-right-color: var(--fill-color);\n",
              "      border-bottom-color: var(--fill-color);\n",
              "    }\n",
              "    90% {\n",
              "      border-color: transparent;\n",
              "      border-bottom-color: var(--fill-color);\n",
              "    }\n",
              "  }\n",
              "</style>\n",
              "\n",
              "  <script>\n",
              "    async function quickchart(key) {\n",
              "      const quickchartButtonEl =\n",
              "        document.querySelector('#' + key + ' button');\n",
              "      quickchartButtonEl.disabled = true;  // To prevent multiple clicks.\n",
              "      quickchartButtonEl.classList.add('colab-df-spinner');\n",
              "      try {\n",
              "        const charts = await google.colab.kernel.invokeFunction(\n",
              "            'suggestCharts', [key], {});\n",
              "      } catch (error) {\n",
              "        console.error('Error during call to suggestCharts:', error);\n",
              "      }\n",
              "      quickchartButtonEl.classList.remove('colab-df-spinner');\n",
              "      quickchartButtonEl.classList.add('colab-df-quickchart-complete');\n",
              "    }\n",
              "    (() => {\n",
              "      let quickchartButtonEl =\n",
              "        document.querySelector('#df-17416fdd-99ef-45b9-ac38-ad7b902efbf6 button');\n",
              "      quickchartButtonEl.style.display =\n",
              "        google.colab.kernel.accessAllowed ? 'block' : 'none';\n",
              "    })();\n",
              "  </script>\n",
              "</div>\n",
              "    </div>\n",
              "  </div>\n"
            ]
          },
          "metadata": {},
          "execution_count": 16
        }
      ]
    },
    {
      "cell_type": "code",
      "source": [
        "import tensorflow as tf\n",
        "from tensorflow.keras.models import Sequential\n",
        "from tensorflow.keras.layers import Dense\n",
        "\n",
        "# 建立模型\n",
        "model_keras = Sequential()\n",
        "model_keras.add(Dense(8, activation='relu', input_shape=(X_train.shape[1],)))\n",
        "model_keras.add(Dense(8, activation='relu'))\n",
        "model_keras.add(Dense(1, activation='sigmoid'))\n",
        "\n",
        "# 編譯模型\n",
        "model_keras.compile(optimizer='adam',\n",
        "          loss='binary_crossentropy',\n",
        "          metrics=['accuracy'])\n",
        "\n",
        "# 訓練模型並保存歷史記錄\n",
        "history = model_keras.fit(X_train, y_train, epochs=30, batch_size=8, validation_split=0.1)\n"
      ],
      "metadata": {
        "id": "fErLXGukvduX",
        "colab": {
          "base_uri": "https://localhost:8080/"
        },
        "outputId": "386b96f9-0f91-42cb-a07f-6905ffd490b6"
      },
      "execution_count": 17,
      "outputs": [
        {
          "output_type": "stream",
          "name": "stdout",
          "text": [
            "Epoch 1/30\n",
            "52/52 [==============================] - 1s 7ms/step - loss: 0.6463 - accuracy: 0.4181 - val_loss: 0.6389 - val_accuracy: 0.3478\n",
            "Epoch 2/30\n",
            "52/52 [==============================] - 0s 4ms/step - loss: 0.5145 - accuracy: 0.6968 - val_loss: 0.5545 - val_accuracy: 0.8043\n",
            "Epoch 3/30\n",
            "52/52 [==============================] - 0s 4ms/step - loss: 0.4571 - accuracy: 0.8973 - val_loss: 0.5025 - val_accuracy: 0.9348\n",
            "Epoch 4/30\n",
            "52/52 [==============================] - 0s 4ms/step - loss: 0.4041 - accuracy: 0.9389 - val_loss: 0.4393 - val_accuracy: 0.9348\n",
            "Epoch 5/30\n",
            "52/52 [==============================] - 0s 4ms/step - loss: 0.3398 - accuracy: 0.9682 - val_loss: 0.3614 - val_accuracy: 0.9130\n",
            "Epoch 6/30\n",
            "52/52 [==============================] - 0s 4ms/step - loss: 0.2578 - accuracy: 0.9731 - val_loss: 0.2516 - val_accuracy: 0.9565\n",
            "Epoch 7/30\n",
            "52/52 [==============================] - 0s 4ms/step - loss: 0.1656 - accuracy: 0.9804 - val_loss: 0.1678 - val_accuracy: 0.9565\n",
            "Epoch 8/30\n",
            "52/52 [==============================] - 0s 5ms/step - loss: 0.1125 - accuracy: 0.9804 - val_loss: 0.1319 - val_accuracy: 0.9565\n",
            "Epoch 9/30\n",
            "52/52 [==============================] - 0s 4ms/step - loss: 0.0878 - accuracy: 0.9829 - val_loss: 0.1182 - val_accuracy: 0.9565\n",
            "Epoch 10/30\n",
            "52/52 [==============================] - 0s 4ms/step - loss: 0.0753 - accuracy: 0.9780 - val_loss: 0.1087 - val_accuracy: 0.9783\n",
            "Epoch 11/30\n",
            "52/52 [==============================] - 0s 5ms/step - loss: 0.0677 - accuracy: 0.9829 - val_loss: 0.1027 - val_accuracy: 0.9783\n",
            "Epoch 12/30\n",
            "52/52 [==============================] - 0s 4ms/step - loss: 0.0631 - accuracy: 0.9829 - val_loss: 0.0982 - val_accuracy: 0.9783\n",
            "Epoch 13/30\n",
            "52/52 [==============================] - 0s 4ms/step - loss: 0.0591 - accuracy: 0.9804 - val_loss: 0.0948 - val_accuracy: 0.9783\n",
            "Epoch 14/30\n",
            "52/52 [==============================] - 0s 4ms/step - loss: 0.0564 - accuracy: 0.9829 - val_loss: 0.0918 - val_accuracy: 0.9783\n",
            "Epoch 15/30\n",
            "52/52 [==============================] - 0s 4ms/step - loss: 0.0537 - accuracy: 0.9829 - val_loss: 0.0900 - val_accuracy: 0.9783\n",
            "Epoch 16/30\n",
            "52/52 [==============================] - 0s 4ms/step - loss: 0.0518 - accuracy: 0.9853 - val_loss: 0.0870 - val_accuracy: 0.9783\n",
            "Epoch 17/30\n",
            "52/52 [==============================] - 0s 4ms/step - loss: 0.0502 - accuracy: 0.9853 - val_loss: 0.0852 - val_accuracy: 0.9783\n",
            "Epoch 18/30\n",
            "52/52 [==============================] - 0s 6ms/step - loss: 0.0490 - accuracy: 0.9853 - val_loss: 0.0844 - val_accuracy: 0.9783\n",
            "Epoch 19/30\n",
            "52/52 [==============================] - 0s 6ms/step - loss: 0.0476 - accuracy: 0.9902 - val_loss: 0.0834 - val_accuracy: 0.9783\n",
            "Epoch 20/30\n",
            "52/52 [==============================] - 0s 6ms/step - loss: 0.0464 - accuracy: 0.9902 - val_loss: 0.0810 - val_accuracy: 0.9783\n",
            "Epoch 21/30\n",
            "52/52 [==============================] - 0s 6ms/step - loss: 0.0454 - accuracy: 0.9927 - val_loss: 0.0818 - val_accuracy: 0.9783\n",
            "Epoch 22/30\n",
            "52/52 [==============================] - 0s 7ms/step - loss: 0.0444 - accuracy: 0.9902 - val_loss: 0.0812 - val_accuracy: 0.9783\n",
            "Epoch 23/30\n",
            "52/52 [==============================] - 0s 6ms/step - loss: 0.0435 - accuracy: 0.9927 - val_loss: 0.0801 - val_accuracy: 0.9783\n",
            "Epoch 24/30\n",
            "52/52 [==============================] - 0s 6ms/step - loss: 0.0427 - accuracy: 0.9927 - val_loss: 0.0809 - val_accuracy: 0.9783\n",
            "Epoch 25/30\n",
            "52/52 [==============================] - 0s 6ms/step - loss: 0.0418 - accuracy: 0.9927 - val_loss: 0.0815 - val_accuracy: 0.9783\n",
            "Epoch 26/30\n",
            "52/52 [==============================] - 0s 4ms/step - loss: 0.0407 - accuracy: 0.9927 - val_loss: 0.0818 - val_accuracy: 0.9565\n",
            "Epoch 27/30\n",
            "52/52 [==============================] - 0s 4ms/step - loss: 0.0401 - accuracy: 0.9927 - val_loss: 0.0821 - val_accuracy: 0.9565\n",
            "Epoch 28/30\n",
            "52/52 [==============================] - 0s 5ms/step - loss: 0.0388 - accuracy: 0.9927 - val_loss: 0.0835 - val_accuracy: 0.9565\n",
            "Epoch 29/30\n",
            "52/52 [==============================] - 0s 5ms/step - loss: 0.0378 - accuracy: 0.9927 - val_loss: 0.0845 - val_accuracy: 0.9565\n",
            "Epoch 30/30\n",
            "52/52 [==============================] - 0s 5ms/step - loss: 0.0374 - accuracy: 0.9927 - val_loss: 0.0849 - val_accuracy: 0.9565\n"
          ]
        }
      ]
    },
    {
      "cell_type": "code",
      "source": [
        "from sklearn.metrics import roc_auc_score\n",
        "# 測試資料準確率\n",
        "loss, accuracy = model_keras.evaluate(X_test, y_test, verbose=0)\n",
        "print(f'Test Accuracy: {accuracy:.4f}')\n",
        "\n",
        "# 測試資料AUC\n",
        "y_pred_proba = model_keras.predict(X_test).ravel()\n",
        "auc_score = roc_auc_score(y_test, y_pred_proba)\n",
        "print(f'Test AUC: {auc_score:.4f}')"
      ],
      "metadata": {
        "id": "whBMvPrky4bN",
        "colab": {
          "base_uri": "https://localhost:8080/"
        },
        "outputId": "e1f8f085-17f3-4ad1-cc99-b485b761584c"
      },
      "execution_count": 18,
      "outputs": [
        {
          "output_type": "stream",
          "name": "stdout",
          "text": [
            "Test Accuracy: 0.9737\n",
            "4/4 [==============================] - 0s 3ms/step\n",
            "Test AUC: 0.9980\n"
          ]
        }
      ]
    },
    {
      "cell_type": "code",
      "source": [
        "import matplotlib.pyplot as plt\n",
        "\n",
        "# 損失曲線\n",
        "plt.plot(history.history['loss'], label='Training loss')\n",
        "plt.plot(history.history['val_loss'], label='Validation loss')\n",
        "plt.title('Training and Validation Loss')\n",
        "plt.xlabel('Epochs')\n",
        "plt.ylabel('Loss')\n",
        "plt.legend()\n",
        "plt.show()\n",
        "\n",
        "# 準確率曲線\n",
        "plt.plot(history.history['accuracy'], label='Training accuracy')\n",
        "plt.plot(history.history['val_accuracy'], label='Validation accuracy')\n",
        "plt.title('Training and Validation Accuracy')\n",
        "plt.xlabel('Epochs')\n",
        "plt.ylabel('Accuracy')\n",
        "plt.legend()\n",
        "plt.show()\n"
      ],
      "metadata": {
        "id": "qSklXKrby4da",
        "colab": {
          "base_uri": "https://localhost:8080/",
          "height": 927
        },
        "outputId": "8f14d8bc-faf7-4903-afa6-2ee546ad19cb"
      },
      "execution_count": 19,
      "outputs": [
        {
          "output_type": "display_data",
          "data": {
            "text/plain": [
              "<Figure size 640x480 with 1 Axes>"
            ],
            "image/png": "[encoded data removed]"
          },
          "metadata": {}
        },
        {
          "output_type": "display_data",
          "data": {
            "text/plain": [
              "<Figure size 640x480 with 1 Axes>"
            ],
            "image/png": "[encoded data removed]"
          },
          "metadata": {}
        }
      ]
    },
    {
      "cell_type": "markdown",
      "source": [
        "## 提升模型準確率策略\n",
        "* 調整激活函數、損失函數、優化器\n",
        "* 增加訓練次數epochs\n",
        "* 使用正則化，如Dropout\n",
        "* 增加資料前處理\n",
        "* 增加神經網路深度及神經元數\n",
        "* 超參數調整\n",
        "\n"
      ],
      "metadata": {
        "id": "DQxO3A3q16Qp"
      }
    },
    {
      "cell_type": "code",
      "source": [
        "from tensorflow.keras.callbacks import EarlyStopping\n",
        "from tensorflow.keras.layers import Dropout\n",
        "\n",
        "model_keras = Sequential()\n",
        "model_keras.add(Dense(8, activation='relu', input_shape=(X_train.shape[1],)))\n",
        "model_keras.add(Dropout(0.5))\n",
        "model_keras.add(Dense(8, activation='relu', ))\n",
        "model_keras.add(Dropout(0.5))\n",
        "model_keras.add(Dense(1, activation='sigmoid'))\n",
        "\n",
        "model_keras.compile(optimizer='adam',\n",
        "          loss='binary_crossentropy',\n",
        "          metrics=['accuracy'])\n",
        "\n",
        "history = model_keras.fit(X_train, y_train, epochs=100, batch_size=32, validation_split=0.1, callbacks=[EarlyStopping()])"
      ],
      "metadata": {
        "id": "8wKQ2EwQy4ff",
        "colab": {
          "base_uri": "https://localhost:8080/"
        },
        "outputId": "9e7edf00-5a1d-4c1b-fb51-8f5f90cc13c1"
      },
      "execution_count": 20,
      "outputs": [
        {
          "output_type": "stream",
          "name": "stdout",
          "text": [
            "Epoch 1/100\n",
            "13/13 [==============================] - 2s 18ms/step - loss: 0.8270 - accuracy: 0.5403 - val_loss: 0.8460 - val_accuracy: 0.3043\n",
            "Epoch 2/100\n",
            "13/13 [==============================] - 0s 7ms/step - loss: 0.7518 - accuracy: 0.5892 - val_loss: 0.7719 - val_accuracy: 0.3478\n",
            "Epoch 3/100\n",
            "13/13 [==============================] - 0s 6ms/step - loss: 0.7244 - accuracy: 0.6064 - val_loss: 0.7109 - val_accuracy: 0.3696\n",
            "Epoch 4/100\n",
            "13/13 [==============================] - 0s 6ms/step - loss: 0.6523 - accuracy: 0.6601 - val_loss: 0.6601 - val_accuracy: 0.4130\n",
            "Epoch 5/100\n",
            "13/13 [==============================] - 0s 6ms/step - loss: 0.6055 - accuracy: 0.7042 - val_loss: 0.6098 - val_accuracy: 0.5870\n",
            "Epoch 6/100\n",
            "13/13 [==============================] - 0s 8ms/step - loss: 0.5806 - accuracy: 0.7017 - val_loss: 0.5612 - val_accuracy: 0.7609\n",
            "Epoch 7/100\n",
            "13/13 [==============================] - 0s 7ms/step - loss: 0.5341 - accuracy: 0.7653 - val_loss: 0.5076 - val_accuracy: 0.8478\n",
            "Epoch 8/100\n",
            "13/13 [==============================] - 0s 5ms/step - loss: 0.5161 - accuracy: 0.7726 - val_loss: 0.4637 - val_accuracy: 0.8478\n",
            "Epoch 9/100\n",
            "13/13 [==============================] - 0s 7ms/step - loss: 0.5140 - accuracy: 0.7800 - val_loss: 0.4209 - val_accuracy: 0.8913\n",
            "Epoch 10/100\n",
            "13/13 [==============================] - 0s 6ms/step - loss: 0.4790 - accuracy: 0.7946 - val_loss: 0.3888 - val_accuracy: 0.8913\n",
            "Epoch 11/100\n",
            "13/13 [==============================] - 0s 7ms/step - loss: 0.4596 - accuracy: 0.8215 - val_loss: 0.3582 - val_accuracy: 0.8913\n",
            "Epoch 12/100\n",
            "13/13 [==============================] - 0s 7ms/step - loss: 0.4157 - accuracy: 0.8313 - val_loss: 0.3296 - val_accuracy: 0.8913\n",
            "Epoch 13/100\n",
            "13/13 [==============================] - 0s 7ms/step - loss: 0.4310 - accuracy: 0.8191 - val_loss: 0.3059 - val_accuracy: 0.8913\n",
            "Epoch 14/100\n",
            "13/13 [==============================] - 0s 6ms/step - loss: 0.3885 - accuracy: 0.8631 - val_loss: 0.2814 - val_accuracy: 0.9348\n",
            "Epoch 15/100\n",
            "13/13 [==============================] - 0s 6ms/step - loss: 0.3878 - accuracy: 0.8802 - val_loss: 0.2608 - val_accuracy: 0.9348\n",
            "Epoch 16/100\n",
            "13/13 [==============================] - 0s 6ms/step - loss: 0.3787 - accuracy: 0.8704 - val_loss: 0.2430 - val_accuracy: 0.9348\n",
            "Epoch 17/100\n",
            "13/13 [==============================] - 0s 7ms/step - loss: 0.3511 - accuracy: 0.8826 - val_loss: 0.2275 - val_accuracy: 0.9348\n",
            "Epoch 18/100\n",
            "13/13 [==============================] - 0s 7ms/step - loss: 0.3276 - accuracy: 0.8655 - val_loss: 0.2136 - val_accuracy: 0.9348\n",
            "Epoch 19/100\n",
            "13/13 [==============================] - 0s 7ms/step - loss: 0.3234 - accuracy: 0.8826 - val_loss: 0.2005 - val_accuracy: 0.9348\n",
            "Epoch 20/100\n",
            "13/13 [==============================] - 0s 6ms/step - loss: 0.2969 - accuracy: 0.9022 - val_loss: 0.1896 - val_accuracy: 0.9348\n",
            "Epoch 21/100\n",
            "13/13 [==============================] - 0s 6ms/step - loss: 0.3032 - accuracy: 0.9120 - val_loss: 0.1813 - val_accuracy: 0.9348\n",
            "Epoch 22/100\n",
            "13/13 [==============================] - 0s 6ms/step - loss: 0.2789 - accuracy: 0.9144 - val_loss: 0.1726 - val_accuracy: 0.9348\n",
            "Epoch 23/100\n",
            "13/13 [==============================] - 0s 6ms/step - loss: 0.2964 - accuracy: 0.8924 - val_loss: 0.1647 - val_accuracy: 0.9348\n",
            "Epoch 24/100\n",
            "13/13 [==============================] - 0s 7ms/step - loss: 0.2919 - accuracy: 0.8973 - val_loss: 0.1573 - val_accuracy: 0.9348\n",
            "Epoch 25/100\n",
            "13/13 [==============================] - 0s 6ms/step - loss: 0.2683 - accuracy: 0.9120 - val_loss: 0.1510 - val_accuracy: 0.9348\n",
            "Epoch 26/100\n",
            "13/13 [==============================] - 0s 7ms/step - loss: 0.2569 - accuracy: 0.9022 - val_loss: 0.1447 - val_accuracy: 0.9348\n",
            "Epoch 27/100\n",
            "13/13 [==============================] - 0s 6ms/step - loss: 0.2762 - accuracy: 0.8900 - val_loss: 0.1396 - val_accuracy: 0.9348\n",
            "Epoch 28/100\n",
            "13/13 [==============================] - 0s 7ms/step - loss: 0.2618 - accuracy: 0.9071 - val_loss: 0.1355 - val_accuracy: 0.9348\n",
            "Epoch 29/100\n",
            "13/13 [==============================] - 0s 6ms/step - loss: 0.2485 - accuracy: 0.9169 - val_loss: 0.1309 - val_accuracy: 0.9348\n",
            "Epoch 30/100\n",
            "13/13 [==============================] - 0s 6ms/step - loss: 0.2893 - accuracy: 0.8924 - val_loss: 0.1269 - val_accuracy: 0.9348\n",
            "Epoch 31/100\n",
            "13/13 [==============================] - 0s 7ms/step - loss: 0.2632 - accuracy: 0.8973 - val_loss: 0.1240 - val_accuracy: 0.9348\n",
            "Epoch 32/100\n",
            "13/13 [==============================] - 0s 5ms/step - loss: 0.2806 - accuracy: 0.9218 - val_loss: 0.1218 - val_accuracy: 0.9348\n",
            "Epoch 33/100\n",
            "13/13 [==============================] - 0s 7ms/step - loss: 0.2496 - accuracy: 0.8900 - val_loss: 0.1201 - val_accuracy: 0.9130\n",
            "Epoch 34/100\n",
            "13/13 [==============================] - 0s 7ms/step - loss: 0.2478 - accuracy: 0.9144 - val_loss: 0.1181 - val_accuracy: 0.9348\n",
            "Epoch 35/100\n",
            "13/13 [==============================] - 0s 6ms/step - loss: 0.2068 - accuracy: 0.9438 - val_loss: 0.1159 - val_accuracy: 0.9348\n",
            "Epoch 36/100\n",
            "13/13 [==============================] - 0s 6ms/step - loss: 0.2683 - accuracy: 0.9022 - val_loss: 0.1151 - val_accuracy: 0.9348\n",
            "Epoch 37/100\n",
            "13/13 [==============================] - 0s 6ms/step - loss: 0.2316 - accuracy: 0.9267 - val_loss: 0.1123 - val_accuracy: 0.9348\n",
            "Epoch 38/100\n",
            "13/13 [==============================] - 0s 6ms/step - loss: 0.2154 - accuracy: 0.9046 - val_loss: 0.1107 - val_accuracy: 0.9348\n",
            "Epoch 39/100\n",
            "13/13 [==============================] - 0s 6ms/step - loss: 0.1997 - accuracy: 0.9487 - val_loss: 0.1078 - val_accuracy: 0.9348\n",
            "Epoch 40/100\n",
            "13/13 [==============================] - 0s 6ms/step - loss: 0.2353 - accuracy: 0.9364 - val_loss: 0.1072 - val_accuracy: 0.9348\n",
            "Epoch 41/100\n",
            "13/13 [==============================] - 0s 6ms/step - loss: 0.2150 - accuracy: 0.9315 - val_loss: 0.1060 - val_accuracy: 0.9348\n",
            "Epoch 42/100\n",
            "13/13 [==============================] - 0s 8ms/step - loss: 0.2202 - accuracy: 0.9438 - val_loss: 0.1039 - val_accuracy: 0.9348\n",
            "Epoch 43/100\n",
            "13/13 [==============================] - 0s 9ms/step - loss: 0.2340 - accuracy: 0.9267 - val_loss: 0.1024 - val_accuracy: 0.9565\n",
            "Epoch 44/100\n",
            "13/13 [==============================] - 0s 11ms/step - loss: 0.2108 - accuracy: 0.9413 - val_loss: 0.1011 - val_accuracy: 0.9565\n",
            "Epoch 45/100\n",
            "13/13 [==============================] - 0s 10ms/step - loss: 0.2212 - accuracy: 0.9413 - val_loss: 0.0988 - val_accuracy: 0.9565\n",
            "Epoch 46/100\n",
            "13/13 [==============================] - 0s 10ms/step - loss: 0.1852 - accuracy: 0.9438 - val_loss: 0.0979 - val_accuracy: 0.9565\n",
            "Epoch 47/100\n",
            "13/13 [==============================] - 0s 10ms/step - loss: 0.1926 - accuracy: 0.9438 - val_loss: 0.0967 - val_accuracy: 0.9565\n",
            "Epoch 48/100\n",
            "13/13 [==============================] - 0s 9ms/step - loss: 0.1851 - accuracy: 0.9560 - val_loss: 0.0965 - val_accuracy: 0.9565\n",
            "Epoch 49/100\n",
            "13/13 [==============================] - 0s 9ms/step - loss: 0.1950 - accuracy: 0.9535 - val_loss: 0.0958 - val_accuracy: 0.9565\n",
            "Epoch 50/100\n",
            "13/13 [==============================] - 0s 9ms/step - loss: 0.2142 - accuracy: 0.9364 - val_loss: 0.0960 - val_accuracy: 0.9565\n"
          ]
        }
      ]
    },
    {
      "cell_type": "code",
      "source": [
        "from sklearn.metrics import roc_auc_score\n",
        "# 測試資料準確率\n",
        "loss, accuracy = model_keras.evaluate(X_test, y_test, verbose=0)\n",
        "print(f'Test Accuracy: {accuracy:.4f}')\n",
        "\n",
        "# 測試資料AUC\n",
        "y_pred_proba = model_keras.predict(X_test).ravel()\n",
        "auc_score = roc_auc_score(y_test, y_pred_proba)\n",
        "print(f'Test AUC: {auc_score:.4f}')"
      ],
      "metadata": {
        "id": "LB5ZmoqNy4hm",
        "colab": {
          "base_uri": "https://localhost:8080/"
        },
        "outputId": "d1daad1c-d71d-40f0-c429-57e1dfc763d6"
      },
      "execution_count": 21,
      "outputs": [
        {
          "output_type": "stream",
          "name": "stdout",
          "text": [
            "Test Accuracy: 0.9737\n",
            "4/4 [==============================] - 0s 3ms/step\n",
            "Test AUC: 0.9967\n"
          ]
        }
      ]
    },
    {
      "cell_type": "code",
      "source": [
        "import matplotlib.pyplot as plt\n",
        "\n",
        "# 損失曲線\n",
        "plt.plot(history.history['loss'], label='Training loss')\n",
        "plt.plot(history.history['val_loss'], label='Validation loss')\n",
        "plt.title('Training and Validation Loss')\n",
        "plt.xlabel('Epochs')\n",
        "plt.ylabel('Loss')\n",
        "plt.legend()\n",
        "plt.show()\n",
        "\n",
        "# 準確率曲線\n",
        "plt.plot(history.history['accuracy'], label='Training accuracy')\n",
        "plt.plot(history.history['val_accuracy'], label='Validation accuracy')\n",
        "plt.title('Training and Validation Accuracy')\n",
        "plt.xlabel('Epochs')\n",
        "plt.ylabel('Accuracy')\n",
        "plt.legend()\n",
        "plt.show()\n"
      ],
      "metadata": {
        "id": "RRWRbbZ_vdwe",
        "colab": {
          "base_uri": "https://localhost:8080/",
          "height": 927
        },
        "outputId": "ad8aecf0-d90f-410f-d71c-d6174ef3a31a"
      },
      "execution_count": 22,
      "outputs": [
        {
          "output_type": "display_data",
          "data": {
            "text/plain": [
              "<Figure size 640x480 with 1 Axes>"
            ],
            "image/png": "[encoded data removed]"
          },
          "metadata": {}
        },
        {
          "output_type": "display_data",
          "data": {
            "text/plain": [
              "<Figure size 640x480 with 1 Axes>"
            ],
            "image/png": "[encoded data removed]"
          },
          "metadata": {}
        }
      ]
    },
    {
      "cell_type": "code",
      "source": [],
      "metadata": {
        "id": "P6Tze2RL3LjJ"
      },
      "execution_count": 22,
      "outputs": []
    },
    {
      "cell_type": "code",
      "source": [],
      "metadata": {
        "id": "Q5uLMFM4xniD"
      },
      "execution_count": 22,
      "outputs": []
    },
    {
      "cell_type": "code",
      "source": [],
      "metadata": {
        "id": "1qKgPfXe3Lqb"
      },
      "execution_count": 22,
      "outputs": []
    },
    {
      "cell_type": "markdown",
      "source": [
        " ## Pytorch版本"
      ],
      "metadata": {
        "id": "xU0SpU9s2Pm3"
      }
    },
    {
      "cell_type": "code",
      "source": [
        "import torch\n",
        "from torch import nn\n",
        "from torch.utils.data import DataLoader, TensorDataset\n",
        "from sklearn.metrics import roc_auc_score\n",
        "\n",
        "# 建立模型\n",
        "class torchBCM(nn.Module):\n",
        "    def __init__(self, input_shape):\n",
        "        super(torchBCM, self).__init__()\n",
        "        self.layer1 = nn.Sequential(\n",
        "            nn.Linear(input_shape, 8),\n",
        "            nn.ReLU(),\n",
        "            nn.Dropout(0.5)\n",
        "        )\n",
        "        self.layer2 = nn.Sequential(\n",
        "            nn.Linear(8, 8),\n",
        "            nn.ReLU(),\n",
        "            nn.Dropout(0.5)\n",
        "        )\n",
        "        self.output = nn.Linear(8, 1)\n",
        "        self.sigmoid = nn.Sigmoid()\n",
        "\n",
        "    def forward(self, x):\n",
        "        x = self.layer1(x)\n",
        "        x = self.layer2(x)\n",
        "        x = self.output(x)\n",
        "        return self.sigmoid(x)\n",
        "\n",
        "model = torchBCM(input_shape=X_train.shape[1])\n",
        "\n",
        "# 設定損失函數及優化器\n",
        "loss_fn = nn.BCELoss()\n",
        "optimizer = torch.optim.Adam(model.parameters())\n",
        "\n",
        "# 將資料轉為張量\n",
        "tensor_x_train = torch.Tensor(X_train)\n",
        "tensor_y_train = torch.Tensor(y_train.values).unsqueeze(1)  # 要增加一個維度，二元問題中pytorch獨有\n",
        "tensor_x_test = torch.Tensor(X_test)\n",
        "tensor_y_test = torch.Tensor(y_test.values).unsqueeze(1)\n",
        "\n",
        "train_dataset = TensorDataset(tensor_x_train, tensor_y_train)\n",
        "train_loader = DataLoader(dataset=train_dataset, batch_size=64, shuffle=True)\n",
        "\n",
        "# 模型訓練\n",
        "model.train()\n",
        "num_epochs = 100\n",
        "for epoch in range(num_epochs):\n",
        "    for inputs, targets in train_loader:\n",
        "        # 前向傳播\n",
        "        outputs = model(inputs)\n",
        "        loss = loss_fn(outputs, targets)\n",
        "\n",
        "        # 反向傳播\n",
        "        optimizer.zero_grad()\n",
        "        loss.backward()\n",
        "        optimizer.step()\n",
        "\n",
        "    if (epoch+1) % 10 == 0:\n",
        "        print(f'Epoch [{epoch+1}/{num_epochs}], Loss: {loss.item():.4f}')\n",
        "\n",
        "# 評估測試資料\n",
        "model.eval()\n",
        "with torch.no_grad():\n",
        "    inputs = tensor_x_test\n",
        "    outputs = model(inputs).cpu()\n",
        "    predicted = (outputs > 0.5).float()\n",
        "    accuracy = (predicted.eq(tensor_y_test).sum() / float(tensor_y_test.shape[0])).item()\n",
        "    print(f'Test Accuracy: {accuracy:.4f}')\n",
        "\n",
        "    auc_score = roc_auc_score(y_test, outputs.numpy())\n",
        "    print(f'Test AUC: {auc_score:.4f}')\n"
      ],
      "metadata": {
        "id": "akwhrwmrvdyh",
        "colab": {
          "base_uri": "https://localhost:8080/"
        },
        "outputId": "bedb7ec5-bd38-491f-a1d1-fa277e72032e"
      },
      "execution_count": 23,
      "outputs": [
        {
          "output_type": "stream",
          "name": "stdout",
          "text": [
            "Epoch [10/100], Loss: 0.5704\n",
            "Epoch [20/100], Loss: 0.4114\n",
            "Epoch [30/100], Loss: 0.1405\n",
            "Epoch [40/100], Loss: 0.1560\n",
            "Epoch [50/100], Loss: 0.0737\n",
            "Epoch [60/100], Loss: 0.0659\n",
            "Epoch [70/100], Loss: 0.0189\n",
            "Epoch [80/100], Loss: 0.1641\n",
            "Epoch [90/100], Loss: 0.1483\n",
            "Epoch [100/100], Loss: 0.0490\n",
            "Test Accuracy: 0.9912\n",
            "Test AUC: 0.9974\n"
          ]
        }
      ]
    },
    {
      "cell_type": "code",
      "source": [],
      "metadata": {
        "id": "PcAKNK9Jvd06"
      },
      "execution_count": 23,
      "outputs": []
    },
    {
      "cell_type": "code",
      "source": [],
      "metadata": {
        "id": "6QtTnlBEvd29"
      },
      "execution_count": 23,
      "outputs": []
    },
    {
      "cell_type": "markdown",
      "source": [
        "# 實戰-California Housing 加州房價預測\n",
        "使用加州房價資料進行數值預測實作<br>\n",
        "https://www.kaggle.com/datasets/camnugent/california-housing-prices"
      ],
      "metadata": {
        "id": "pTosRSxS0cda"
      }
    },
    {
      "cell_type": "code",
      "source": [
        "from sklearn.datasets import fetch_california_housing\n",
        "from sklearn.model_selection import train_test_split\n",
        "from sklearn.preprocessing import StandardScaler"
      ],
      "metadata": {
        "id": "PRNNU5Vw0kWr"
      },
      "execution_count": 24,
      "outputs": []
    },
    {
      "cell_type": "code",
      "source": [
        "# 載入數據\n",
        "housing = fetch_california_housing(as_frame=True)\n",
        "X_train_full, X_test, y_train_full, y_test = train_test_split(housing.data, housing.target, random_state=42)\n",
        "X, y = housing.data, housing.target\n",
        "\n",
        "# 特徵標準化\n",
        "scaler = StandardScaler()\n",
        "X_scaled = scaler.fit_transform(X)\n",
        "\n",
        "# 切訓練及測試資料\n",
        "X_train, X_test, y_train, y_test = train_test_split(X_scaled, y, test_size=0.2, random_state=42)"
      ],
      "metadata": {
        "id": "Q1N23SO35whL"
      },
      "execution_count": 25,
      "outputs": []
    },
    {
      "cell_type": "code",
      "source": [
        "X.head()"
      ],
      "metadata": {
        "id": "6cC_n3Xu52FJ",
        "colab": {
          "base_uri": "https://localhost:8080/",
          "height": 206
        },
        "outputId": "fc8ddb8e-1d56-44cb-9b64-9ac9e30f4309"
      },
      "execution_count": 26,
      "outputs": [
        {
          "output_type": "execute_result",
          "data": {
            "text/plain": [
              "   MedInc  HouseAge  AveRooms  AveBedrms  Population  AveOccup  Latitude  \\\n",
              "0  8.3252      41.0  6.984127   1.023810       322.0  2.555556     37.88   \n",
              "1  8.3014      21.0  6.238137   0.971880      2401.0  2.109842     37.86   \n",
              "2  7.2574      52.0  8.288136   1.073446       496.0  2.802260     37.85   \n",
              "3  5.6431      52.0  5.817352   1.073059       558.0  2.547945     37.85   \n",
              "4  3.8462      52.0  6.281853   1.081081       565.0  2.181467     37.85   \n",
              "\n",
              "   Longitude  \n",
              "0    -122.23  \n",
              "1    -122.22  \n",
              "2    -122.24  \n",
              "3    -122.25  \n",
              "4    -122.25  "
            ],
            "text/html": [
              "\n",
              "  <div id=\"df-39b1ab4a-d7d4-4502-8a3e-72e8176a41db\" class=\"colab-df-container\">\n",
              "    <div>\n",
              "<style scoped>\n",
              "    .dataframe tbody tr th:only-of-type {\n",
              "        vertical-align: middle;\n",
              "    }\n",
              "\n",
              "    .dataframe tbody tr th {\n",
              "        vertical-align: top;\n",
              "    }\n",
              "\n",
              "    .dataframe thead th {\n",
              "        text-align: right;\n",
              "    }\n",
              "</style>\n",
              "<table border=\"1\" class=\"dataframe\">\n",
              "  <thead>\n",
              "    <tr style=\"text-align: right;\">\n",
              "      <th></th>\n",
              "      <th>MedInc</th>\n",
              "      <th>HouseAge</th>\n",
              "      <th>AveRooms</th>\n",
              "      <th>AveBedrms</th>\n",
              "      <th>Population</th>\n",
              "      <th>AveOccup</th>\n",
              "      <th>Latitude</th>\n",
              "      <th>Longitude</th>\n",
              "    </tr>\n",
              "  </thead>\n",
              "  <tbody>\n",
              "    <tr>\n",
              "      <th>0</th>\n",
              "      <td>8.3252</td>\n",
              "      <td>41.0</td>\n",
              "      <td>6.984127</td>\n",
              "      <td>1.023810</td>\n",
              "      <td>322.0</td>\n",
              "      <td>2.555556</td>\n",
              "      <td>37.88</td>\n",
              "      <td>-122.23</td>\n",
              "    </tr>\n",
              "    <tr>\n",
              "      <th>1</th>\n",
              "      <td>8.3014</td>\n",
              "      <td>21.0</td>\n",
              "      <td>6.238137</td>\n",
              "      <td>0.971880</td>\n",
              "      <td>2401.0</td>\n",
              "      <td>2.109842</td>\n",
              "      <td>37.86</td>\n",
              "      <td>-122.22</td>\n",
              "    </tr>\n",
              "    <tr>\n",
              "      <th>2</th>\n",
              "      <td>7.2574</td>\n",
              "      <td>52.0</td>\n",
              "      <td>8.288136</td>\n",
              "      <td>1.073446</td>\n",
              "      <td>496.0</td>\n",
              "      <td>2.802260</td>\n",
              "      <td>37.85</td>\n",
              "      <td>-122.24</td>\n",
              "    </tr>\n",
              "    <tr>\n",
              "      <th>3</th>\n",
              "      <td>5.6431</td>\n",
              "      <td>52.0</td>\n",
              "      <td>5.817352</td>\n",
              "      <td>1.073059</td>\n",
              "      <td>558.0</td>\n",
              "      <td>2.547945</td>\n",
              "      <td>37.85</td>\n",
              "      <td>-122.25</td>\n",
              "    </tr>\n",
              "    <tr>\n",
              "      <th>4</th>\n",
              "      <td>3.8462</td>\n",
              "      <td>52.0</td>\n",
              "      <td>6.281853</td>\n",
              "      <td>1.081081</td>\n",
              "      <td>565.0</td>\n",
              "      <td>2.181467</td>\n",
              "      <td>37.85</td>\n",
              "      <td>-122.25</td>\n",
              "    </tr>\n",
              "  </tbody>\n",
              "</table>\n",
              "</div>\n",
              "    <div class=\"colab-df-buttons\">\n",
              "\n",
              "  <div class=\"colab-df-container\">\n",
              "    <button class=\"colab-df-convert\" onclick=\"convertToInteractive('df-39b1ab4a-d7d4-4502-8a3e-72e8176a41db')\"\n",
              "            title=\"Convert this dataframe to an interactive table.\"\n",
              "            style=\"display:none;\">\n",
              "\n",
              "  <svg xmlns=\"http://www.w3.org/2000/svg\" height=\"24px\" viewBox=\"0 -960 960 960\">\n",
              "    <path d=\"M120-120v-720h720v720H120Zm60-500h600v-160H180v160Zm220 220h160v-160H400v160Zm0 220h160v-160H400v160ZM180-400h160v-160H180v160Zm440 0h160v-160H620v160ZM180-180h160v-160H180v160Zm440 0h160v-160H620v160Z\"/>\n",
              "  </svg>\n",
              "    </button>\n",
              "\n",
              "  <style>\n",
              "    .colab-df-container {\n",
              "      display:flex;\n",
              "      gap: 12px;\n",
              "    }\n",
              "\n",
              "    .colab-df-convert {\n",
              "      background-color: #E8F0FE;\n",
              "      border: none;\n",
              "      border-radius: 50%;\n",
              "      cursor: pointer;\n",
              "      display: none;\n",
              "      fill: #1967D2;\n",
              "      height: 32px;\n",
              "      padding: 0 0 0 0;\n",
              "      width: 32px;\n",
              "    }\n",
              "\n",
              "    .colab-df-convert:hover {\n",
              "      background-color: #E2EBFA;\n",
              "      box-shadow: 0px 1px 2px rgba(60, 64, 67, 0.3), 0px 1px 3px 1px rgba(60, 64, 67, 0.15);\n",
              "      fill: #174EA6;\n",
              "    }\n",
              "\n",
              "    .colab-df-buttons div {\n",
              "      margin-bottom: 4px;\n",
              "    }\n",
              "\n",
              "    [theme=dark] .colab-df-convert {\n",
              "      background-color: #3B4455;\n",
              "      fill: #D2E3FC;\n",
              "    }\n",
              "\n",
              "    [theme=dark] .colab-df-convert:hover {\n",
              "      background-color: #434B5C;\n",
              "      box-shadow: 0px 1px 3px 1px rgba(0, 0, 0, 0.15);\n",
              "      filter: drop-shadow(0px 1px 2px rgba(0, 0, 0, 0.3));\n",
              "      fill: #FFFFFF;\n",
              "    }\n",
              "  </style>\n",
              "\n",
              "    <script>\n",
              "      const buttonEl =\n",
              "        document.querySelector('#df-39b1ab4a-d7d4-4502-8a3e-72e8176a41db button.colab-df-convert');\n",
              "      buttonEl.style.display =\n",
              "        google.colab.kernel.accessAllowed ? 'block' : 'none';\n",
              "\n",
              "      async function convertToInteractive(key) {\n",
              "        const element = document.querySelector('#df-39b1ab4a-d7d4-4502-8a3e-72e8176a41db');\n",
              "        const dataTable =\n",
              "          await google.colab.kernel.invokeFunction('convertToInteractive',\n",
              "                                                    [key], {});\n",
              "        if (!dataTable) return;\n",
              "\n",
              "        const docLinkHtml = 'Like what you see? Visit the ' +\n",
              "          '<a target=\"_blank\" href=https://colab.research.google.com/notebooks/data_table.ipynb>data table notebook</a>'\n",
              "          + ' to learn more about interactive tables.';\n",
              "        element.innerHTML = '';\n",
              "        dataTable['output_type'] = 'display_data';\n",
              "        await google.colab.output.renderOutput(dataTable, element);\n",
              "        const docLink = document.createElement('div');\n",
              "        docLink.innerHTML = docLinkHtml;\n",
              "        element.appendChild(docLink);\n",
              "      }\n",
              "    </script>\n",
              "  </div>\n",
              "\n",
              "\n",
              "<div id=\"df-4c733a9a-c931-4e52-b8f4-4ec7bf4a61f6\">\n",
              "  <button class=\"colab-df-quickchart\" onclick=\"quickchart('df-4c733a9a-c931-4e52-b8f4-4ec7bf4a61f6')\"\n",
              "            title=\"Suggest charts\"\n",
              "            style=\"display:none;\">\n",
              "\n",
              "<svg xmlns=\"http://www.w3.org/2000/svg\" height=\"24px\"viewBox=\"0 0 24 24\"\n",
              "     width=\"24px\">\n",
              "    <g>\n",
              "        <path d=\"M19 3H5c-1.1 0-2 .9-2 2v14c0 1.1.9 2 2 2h14c1.1 0 2-.9 2-2V5c0-1.1-.9-2-2-2zM9 17H7v-7h2v7zm4 0h-2V7h2v10zm4 0h-2v-4h2v4z\"/>\n",
              "    </g>\n",
              "</svg>\n",
              "  </button>\n",
              "\n",
              "<style>\n",
              "  .colab-df-quickchart {\n",
              "      --bg-color: #E8F0FE;\n",
              "      --fill-color: #1967D2;\n",
              "      --hover-bg-color: #E2EBFA;\n",
              "      --hover-fill-color: #174EA6;\n",
              "      --disabled-fill-color: #AAA;\n",
              "      --disabled-bg-color: #DDD;\n",
              "  }\n",
              "\n",
              "  [theme=dark] .colab-df-quickchart {\n",
              "      --bg-color: #3B4455;\n",
              "      --fill-color: #D2E3FC;\n",
              "      --hover-bg-color: #434B5C;\n",
              "      --hover-fill-color: #FFFFFF;\n",
              "      --disabled-bg-color: #3B4455;\n",
              "      --disabled-fill-color: #666;\n",
              "  }\n",
              "\n",
              "  .colab-df-quickchart {\n",
              "    background-color: var(--bg-color);\n",
              "    border: none;\n",
              "    border-radius: 50%;\n",
              "    cursor: pointer;\n",
              "    display: none;\n",
              "    fill: var(--fill-color);\n",
              "    height: 32px;\n",
              "    padding: 0;\n",
              "    width: 32px;\n",
              "  }\n",
              "\n",
              "  .colab-df-quickchart:hover {\n",
              "    background-color: var(--hover-bg-color);\n",
              "    box-shadow: 0 1px 2px rgba(60, 64, 67, 0.3), 0 1px 3px 1px rgba(60, 64, 67, 0.15);\n",
              "    fill: var(--button-hover-fill-color);\n",
              "  }\n",
              "\n",
              "  .colab-df-quickchart-complete:disabled,\n",
              "  .colab-df-quickchart-complete:disabled:hover {\n",
              "    background-color: var(--disabled-bg-color);\n",
              "    fill: var(--disabled-fill-color);\n",
              "    box-shadow: none;\n",
              "  }\n",
              "\n",
              "  .colab-df-spinner {\n",
              "    border: 2px solid var(--fill-color);\n",
              "    border-color: transparent;\n",
              "    border-bottom-color: var(--fill-color);\n",
              "    animation:\n",
              "      spin 1s steps(1) infinite;\n",
              "  }\n",
              "\n",
              "  @keyframes spin {\n",
              "    0% {\n",
              "      border-color: transparent;\n",
              "      border-bottom-color: var(--fill-color);\n",
              "      border-left-color: var(--fill-color);\n",
              "    }\n",
              "    20% {\n",
              "      border-color: transparent;\n",
              "      border-left-color: var(--fill-color);\n",
              "      border-top-color: var(--fill-color);\n",
              "    }\n",
              "    30% {\n",
              "      border-color: transparent;\n",
              "      border-left-color: var(--fill-color);\n",
              "      border-top-color: var(--fill-color);\n",
              "      border-right-color: var(--fill-color);\n",
              "    }\n",
              "    40% {\n",
              "      border-color: transparent;\n",
              "      border-right-color: var(--fill-color);\n",
              "      border-top-color: var(--fill-color);\n",
              "    }\n",
              "    60% {\n",
              "      border-color: transparent;\n",
              "      border-right-color: var(--fill-color);\n",
              "    }\n",
              "    80% {\n",
              "      border-color: transparent;\n",
              "      border-right-color: var(--fill-color);\n",
              "      border-bottom-color: var(--fill-color);\n",
              "    }\n",
              "    90% {\n",
              "      border-color: transparent;\n",
              "      border-bottom-color: var(--fill-color);\n",
              "    }\n",
              "  }\n",
              "</style>\n",
              "\n",
              "  <script>\n",
              "    async function quickchart(key) {\n",
              "      const quickchartButtonEl =\n",
              "        document.querySelector('#' + key + ' button');\n",
              "      quickchartButtonEl.disabled = true;  // To prevent multiple clicks.\n",
              "      quickchartButtonEl.classList.add('colab-df-spinner');\n",
              "      try {\n",
              "        const charts = await google.colab.kernel.invokeFunction(\n",
              "            'suggestCharts', [key], {});\n",
              "      } catch (error) {\n",
              "        console.error('Error during call to suggestCharts:', error);\n",
              "      }\n",
              "      quickchartButtonEl.classList.remove('colab-df-spinner');\n",
              "      quickchartButtonEl.classList.add('colab-df-quickchart-complete');\n",
              "    }\n",
              "    (() => {\n",
              "      let quickchartButtonEl =\n",
              "        document.querySelector('#df-4c733a9a-c931-4e52-b8f4-4ec7bf4a61f6 button');\n",
              "      quickchartButtonEl.style.display =\n",
              "        google.colab.kernel.accessAllowed ? 'block' : 'none';\n",
              "    })();\n",
              "  </script>\n",
              "</div>\n",
              "    </div>\n",
              "  </div>\n"
            ]
          },
          "metadata": {},
          "execution_count": 26
        }
      ]
    },
    {
      "cell_type": "code",
      "source": [
        "import tensorflow as tf\n",
        "from tensorflow.keras.models import Sequential\n",
        "from tensorflow.keras.layers import Dense\n",
        "from tensorflow.keras.callbacks import EarlyStopping\n",
        "from tensorflow.keras.layers import Dropout\n",
        "\n",
        "# 建立模型\n",
        "model_keras = Sequential()\n",
        "model_keras.add(Dense(8, activation='relu', input_shape=(X_train.shape[1],)))\n",
        "model_keras.add(Dropout(0.5))\n",
        "model_keras.add(Dense(8, activation='relu'))\n",
        "model_keras.add(Dropout(0.5))\n",
        "model_keras.add(Dense(1))\n",
        "\n",
        "# 編譯模型\n",
        "model_keras.compile(optimizer='adam',\n",
        "          loss='mean_squared_error',\n",
        "          metrics=['mean_squared_error'])\n",
        "\n",
        "# 訓練模型並保存歷史記錄\n",
        "history = model_keras.fit(X_train, y_train, epochs=100, batch_size=32, validation_split=0.1, callbacks=[EarlyStopping()])"
      ],
      "metadata": {
        "id": "BG8AQHNO55BJ",
        "colab": {
          "base_uri": "https://localhost:8080/"
        },
        "outputId": "55badbcb-3530-407f-d0e6-386ebd23b1a7"
      },
      "execution_count": 27,
      "outputs": [
        {
          "output_type": "stream",
          "name": "stdout",
          "text": [
            "Epoch 1/100\n",
            "465/465 [==============================] - 3s 4ms/step - loss: 4.0129 - mean_squared_error: 4.0129 - val_loss: 1.3446 - val_mean_squared_error: 1.3446\n",
            "Epoch 2/100\n",
            "465/465 [==============================] - 2s 4ms/step - loss: 2.2578 - mean_squared_error: 2.2578 - val_loss: 1.0164 - val_mean_squared_error: 1.0164\n",
            "Epoch 3/100\n",
            "465/465 [==============================] - 2s 4ms/step - loss: 1.5645 - mean_squared_error: 1.5645 - val_loss: 0.8484 - val_mean_squared_error: 0.8484\n",
            "Epoch 4/100\n",
            "465/465 [==============================] - 2s 5ms/step - loss: 1.4921 - mean_squared_error: 1.4921 - val_loss: 0.8313 - val_mean_squared_error: 0.8313\n",
            "Epoch 5/100\n",
            "465/465 [==============================] - 2s 4ms/step - loss: 1.3275 - mean_squared_error: 1.3275 - val_loss: 0.8122 - val_mean_squared_error: 0.8122\n",
            "Epoch 6/100\n",
            "465/465 [==============================] - 2s 4ms/step - loss: 1.1417 - mean_squared_error: 1.1417 - val_loss: 0.7775 - val_mean_squared_error: 0.7775\n",
            "Epoch 7/100\n",
            "465/465 [==============================] - 2s 5ms/step - loss: 1.0304 - mean_squared_error: 1.0304 - val_loss: 0.7223 - val_mean_squared_error: 0.7223\n",
            "Epoch 8/100\n",
            "465/465 [==============================] - 3s 5ms/step - loss: 1.0903 - mean_squared_error: 1.0903 - val_loss: 0.7226 - val_mean_squared_error: 0.7226\n"
          ]
        }
      ]
    },
    {
      "cell_type": "code",
      "source": [
        "model_keras.summary()"
      ],
      "metadata": {
        "id": "yA_-lMWdH8ay",
        "colab": {
          "base_uri": "https://localhost:8080/"
        },
        "outputId": "0090d531-1511-4531-ecc8-021483176fef"
      },
      "execution_count": 28,
      "outputs": [
        {
          "output_type": "stream",
          "name": "stdout",
          "text": [
            "Model: \"sequential_4\"\n",
            "_________________________________________________________________\n",
            " Layer (type)                Output Shape              Param #   \n",
            "=================================================================\n",
            " dense_12 (Dense)            (None, 8)                 72        \n",
            "                                                                 \n",
            " dropout_2 (Dropout)         (None, 8)                 0         \n",
            "                                                                 \n",
            " dense_13 (Dense)            (None, 8)                 72        \n",
            "                                                                 \n",
            " dropout_3 (Dropout)         (None, 8)                 0         \n",
            "                                                                 \n",
            " dense_14 (Dense)            (None, 1)                 9         \n",
            "                                                                 \n",
            "=================================================================\n",
            "Total params: 153 (612.00 Byte)\n",
            "Trainable params: 153 (612.00 Byte)\n",
            "Non-trainable params: 0 (0.00 Byte)\n",
            "_________________________________________________________________\n"
          ]
        }
      ]
    },
    {
      "cell_type": "code",
      "source": [
        "# 評估模型\n",
        "mse_test = model_keras.evaluate(X_test, y_test)\n",
        "print(f'Test MSE: {mse_test[0]:.4f}')"
      ],
      "metadata": {
        "id": "7hsdjSESINDw",
        "colab": {
          "base_uri": "https://localhost:8080/"
        },
        "outputId": "7d898c46-cc8b-4eb2-8077-d2af48703c9a"
      },
      "execution_count": 29,
      "outputs": [
        {
          "output_type": "stream",
          "name": "stdout",
          "text": [
            "129/129 [==============================] - 0s 2ms/step - loss: 0.6960 - mean_squared_error: 0.6960\n",
            "Test MSE: 0.6960\n"
          ]
        }
      ]
    },
    {
      "cell_type": "code",
      "source": [],
      "metadata": {
        "id": "zlR0JVjOKHYw"
      },
      "execution_count": 29,
      "outputs": []
    },
    {
      "cell_type": "code",
      "source": [
        "import matplotlib.pyplot as plt\n",
        "\n",
        "# 損失曲線\n",
        "plt.plot(history.history['loss'], label='Training loss')\n",
        "plt.plot(history.history['val_loss'], label='Validation loss')\n",
        "plt.title('Training and Validation Loss')\n",
        "plt.xlabel('Epochs')\n",
        "plt.ylabel('Loss')\n",
        "plt.legend()\n",
        "plt.show()"
      ],
      "metadata": {
        "id": "Bmo8qV17Iibu",
        "colab": {
          "base_uri": "https://localhost:8080/",
          "height": 472
        },
        "outputId": "782604ff-63cc-44b0-a035-d0cc63b30ab5"
      },
      "execution_count": 30,
      "outputs": [
        {
          "output_type": "display_data",
          "data": {
            "text/plain": [
              "<Figure size 640x480 with 1 Axes>"
            ],
            "image/png": "[encoded data removed]"
          },
          "metadata": {}
        }
      ]
    },
    {
      "cell_type": "code",
      "source": [],
      "metadata": {
        "id": "54FMNpPQIyM3"
      },
      "execution_count": 30,
      "outputs": []
    },
    {
      "cell_type": "code",
      "source": [],
      "metadata": {
        "id": "P5PI3ksUJC9E"
      },
      "execution_count": 30,
      "outputs": []
    },
    {
      "cell_type": "markdown",
      "source": [
        "## 比較LGBM模型\n",
        "比較機器學習與深度學習的演算法，在不調整超參數的前提下，誰的表現比較好"
      ],
      "metadata": {
        "id": "hwsFy6uUJDpf"
      }
    },
    {
      "cell_type": "code",
      "source": [
        "import lightgbm as lgb\n",
        "from sklearn.metrics import mean_squared_error\n",
        "\n",
        "lgb_train = lgb.Dataset(X_train, y_train)\n",
        "\n",
        "# 模型參數\n",
        "params = {\n",
        "    'boosting_type': 'gbdt',\n",
        "    'objective': 'regression', #數值預測\n",
        "    'metric': {'mse'},\n",
        "    'num_leaves': 32, #葉子最大數量，複雜程度\n",
        "    'learning_rate': 0.01 #\n",
        "}\n",
        "\n",
        "# 訓練模型\n",
        "gbm = lgb.train(params,\n",
        "          lgb_train,\n",
        "          num_boost_round=100 #樹的數量\n",
        "          )\n",
        "\n",
        "\n",
        "# 預測\n",
        "y_pred = gbm.predict(X_test, num_iteration=gbm.best_iteration)\n",
        "mse_test = mean_squared_error(y_test, y_pred)\n",
        "print(f'The mean squared error (MSE) on test set: {mse_test}')"
      ],
      "metadata": {
        "id": "fxtAUfCUJC_X",
        "colab": {
          "base_uri": "https://localhost:8080/"
        },
        "outputId": "67e8dc33-dcfc-4997-817d-e8e2847cf8de"
      },
      "execution_count": 31,
      "outputs": [
        {
          "output_type": "stream",
          "name": "stdout",
          "text": [
            "[LightGBM] [Info] Auto-choosing col-wise multi-threading, the overhead of testing was 0.001872 seconds.\n",
            "You can set `force_col_wise=true` to remove the overhead.\n",
            "[LightGBM] [Info] Total Bins 1838\n",
            "[LightGBM] [Info] Number of data points in the train set: 16512, number of used features: 8\n",
            "[LightGBM] [Info] Start training from score 2.071947\n",
            "The mean squared error (MSE) on test set: 0.514552079425033\n"
          ]
        }
      ]
    },
    {
      "cell_type": "code",
      "source": [],
      "metadata": {
        "id": "8BRMPVHnJbPW"
      },
      "execution_count": 31,
      "outputs": []
    },
    {
      "cell_type": "markdown",
      "source": [
        "## Pytorch版本"
      ],
      "metadata": {
        "id": "q8oGyNa_MIrc"
      }
    },
    {
      "cell_type": "code",
      "source": [
        "import torch\n",
        "import torch.nn as nn\n",
        "import torch.optim as optim\n",
        "from torch.utils.data import DataLoader, TensorDataset\n",
        "\n",
        "# 建立模型\n",
        "class torchLIN(nn.Module):\n",
        "    def __init__(self, input_dim):\n",
        "        super(torchLIN, self).__init__()\n",
        "        self.layer1 = nn.Sequential(\n",
        "            nn.Linear(input_dim, 8),\n",
        "            nn.ReLU(),\n",
        "            nn.Dropout(0.5)\n",
        "        )\n",
        "        self.layer2 = nn.Sequential(\n",
        "            nn.Linear(8, 8),\n",
        "            nn.ReLU(),\n",
        "            nn.Dropout(0.5)\n",
        "        )\n",
        "        self.output = nn.Linear(8, 1)\n",
        "\n",
        "    def forward(self, x):\n",
        "        x = self.layer1(x)\n",
        "        x = self.layer2(x)\n",
        "        x = self.output(x)\n",
        "        return x\n",
        "\n",
        "# 數據轉為張量\n",
        "tensor_x_train = torch.Tensor(X_train)\n",
        "tensor_y_train = torch.Tensor(y_train.values)\n",
        "tensor_x_test = torch.Tensor(X_test)\n",
        "tensor_y_test = torch.Tensor(y_test.values)\n",
        "\n",
        "tensor_train = TensorDataset(tensor_x_train, tensor_y_train)\n",
        "tensor_test = TensorDataset(tensor_x_test, tensor_y_test)\n",
        "\n",
        "# 建立訓練及測試資料集\n",
        "train_loader = DataLoader(dataset=tensor_train, batch_size=32, shuffle=True)\n",
        "test_loader = DataLoader(dataset=tensor_test, batch_size=32, shuffle=False)\n",
        "\n",
        "# 輸入模型\n",
        "model = torchLIN(input_dim=X_train.shape[1])\n",
        "\n",
        "# 定義優化器及損失函數\n",
        "optimizer = optim.Adam(model.parameters())\n",
        "loss_fn = nn.MSELoss()\n",
        "\n",
        "# 訓練模型\n",
        "n_epochs = 30\n",
        "\n",
        "for epoch in range(n_epochs):\n",
        "    model.train()\n",
        "    for data, target in train_loader:\n",
        "        optimizer.zero_grad()\n",
        "        output = model(data)\n",
        "        loss = loss_fn(output, target)\n",
        "        loss.backward()\n",
        "        optimizer.step()\n",
        "\n",
        "    print(f'Epoch {epoch+1}: Loss: {loss.item():.4f}')\n",
        "\n",
        "# 測試模型\n",
        "model.eval()\n",
        "test_loss = 0\n",
        "with torch.no_grad():\n",
        "    for data, target in test_loader:\n",
        "        output = model(data)\n",
        "        test_loss += loss_fn(output, target).item()\n",
        "\n",
        "test_loss /= len(test_loader.dataset)\n",
        "print(f'Test MSE: {test_loss:.4f}')"
      ],
      "metadata": {
        "id": "Tk5X33IUMKy4",
        "colab": {
          "base_uri": "https://localhost:8080/"
        },
        "outputId": "cdbeed07-bcd2-4b77-b09a-c71cf63fe052"
      },
      "execution_count": 32,
      "outputs": [
        {
          "output_type": "stream",
          "name": "stderr",
          "text": [
            "/usr/local/lib/python3.10/dist-packages/torch/nn/modules/loss.py:535: UserWarning: Using a target size (torch.Size([32])) that is different to the input size (torch.Size([32, 1])). This will likely lead to incorrect results due to broadcasting. Please ensure they have the same size.\n",
            "  return F.mse_loss(input, target, reduction=self.reduction)\n"
          ]
        },
        {
          "output_type": "stream",
          "name": "stdout",
          "text": [
            "Epoch 1: Loss: 2.2167\n",
            "Epoch 2: Loss: 2.2149\n",
            "Epoch 3: Loss: 2.1913\n",
            "Epoch 4: Loss: 1.9670\n",
            "Epoch 5: Loss: 1.5707\n",
            "Epoch 6: Loss: 1.4317\n",
            "Epoch 7: Loss: 1.3459\n",
            "Epoch 8: Loss: 1.5229\n",
            "Epoch 9: Loss: 1.5844\n",
            "Epoch 10: Loss: 1.5845\n",
            "Epoch 11: Loss: 1.2297\n",
            "Epoch 12: Loss: 1.1212\n",
            "Epoch 13: Loss: 1.3061\n",
            "Epoch 14: Loss: 1.6851\n",
            "Epoch 15: Loss: 0.6977\n",
            "Epoch 16: Loss: 1.5923\n",
            "Epoch 17: Loss: 1.6056\n",
            "Epoch 18: Loss: 1.0574\n",
            "Epoch 19: Loss: 0.9001\n",
            "Epoch 20: Loss: 1.2593\n",
            "Epoch 21: Loss: 1.7633\n",
            "Epoch 22: Loss: 1.0621\n",
            "Epoch 23: Loss: 1.4927\n",
            "Epoch 24: Loss: 1.6385\n",
            "Epoch 25: Loss: 2.0484\n",
            "Epoch 26: Loss: 1.0886\n",
            "Epoch 27: Loss: 0.9049\n",
            "Epoch 28: Loss: 1.0274\n",
            "Epoch 29: Loss: 0.9432\n",
            "Epoch 30: Loss: 1.2167\n",
            "Test MSE: 0.0409\n"
          ]
        }
      ]
    },
    {
      "cell_type": "code",
      "source": [],
      "metadata": {
        "id": "3Vta1S_YMrWM"
      },
      "execution_count": 32,
      "outputs": []
    },
    {
      "cell_type": "code",
      "source": [],
      "metadata": {
        "id": "YU4VeM9HMwj7"
      },
      "execution_count": 32,
      "outputs": []
    }
  ]
}