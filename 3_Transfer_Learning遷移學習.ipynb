{
  "nbformat": 4,
  "nbformat_minor": 0,
  "metadata": {
    "colab": {
      "provenance": [],
      "toc_visible": true,
      "gpuType": "T4"
    },
    "kernelspec": {
      "name": "python3",
      "display_name": "Python 3"
    },
    "language_info": {
      "name": "python"
    },
    "accelerator": "GPU"
  },
  "cells": [
    {
      "cell_type": "markdown",
      "source": [
        "# 實作 - CIFAR-10圖像分類\n",
        "https://www.kaggle.com/c/cifar-10/\n"
      ],
      "metadata": {
        "id": "BINchoejzSlO"
      }
    },
    {
      "cell_type": "markdown",
      "source": [
        "## 客製化模型"
      ],
      "metadata": {
        "id": "iLd6zpf3za8p"
      }
    },
    {
      "cell_type": "code",
      "execution_count": 1,
      "metadata": {
        "colab": {
          "base_uri": "https://localhost:8080/"
        },
        "id": "fQjTu9hnzEQT",
        "outputId": "b555445f-38f8-4429-e700-e26d2a08cac6"
      },
      "outputs": [
        {
          "output_type": "stream",
          "name": "stdout",
          "text": [
            "Downloading data from https://www.cs.toronto.edu/~kriz/cifar-10-python.tar.gz\n",
            "170498071/170498071 [==============================] - 2s 0us/step\n",
            "Epoch 1/15\n",
            "352/352 [==============================] - 14s 8ms/step - loss: 1.8371 - accuracy: 0.3203 - val_loss: 1.4684 - val_accuracy: 0.4844\n",
            "Epoch 2/15\n",
            "352/352 [==============================] - 2s 6ms/step - loss: 1.5399 - accuracy: 0.4405 - val_loss: 1.3190 - val_accuracy: 0.5412\n",
            "Epoch 3/15\n",
            "352/352 [==============================] - 2s 6ms/step - loss: 1.4427 - accuracy: 0.4780 - val_loss: 1.2345 - val_accuracy: 0.5768\n",
            "Epoch 4/15\n",
            "352/352 [==============================] - 2s 7ms/step - loss: 1.3839 - accuracy: 0.5041 - val_loss: 1.1789 - val_accuracy: 0.5894\n",
            "Epoch 5/15\n",
            "352/352 [==============================] - 3s 7ms/step - loss: 1.3298 - accuracy: 0.5280 - val_loss: 1.1424 - val_accuracy: 0.6008\n",
            "Epoch 6/15\n",
            "352/352 [==============================] - 2s 6ms/step - loss: 1.2878 - accuracy: 0.5431 - val_loss: 1.0938 - val_accuracy: 0.6288\n",
            "Epoch 7/15\n",
            "352/352 [==============================] - 2s 6ms/step - loss: 1.2556 - accuracy: 0.5576 - val_loss: 1.0609 - val_accuracy: 0.6336\n",
            "Epoch 8/15\n",
            "352/352 [==============================] - 2s 6ms/step - loss: 1.2267 - accuracy: 0.5669 - val_loss: 1.0033 - val_accuracy: 0.6558\n",
            "Epoch 9/15\n",
            "352/352 [==============================] - 2s 6ms/step - loss: 1.1869 - accuracy: 0.5805 - val_loss: 0.9905 - val_accuracy: 0.6624\n",
            "Epoch 10/15\n",
            "352/352 [==============================] - 3s 8ms/step - loss: 1.1673 - accuracy: 0.5876 - val_loss: 0.9823 - val_accuracy: 0.6678\n",
            "Epoch 11/15\n",
            "352/352 [==============================] - 2s 7ms/step - loss: 1.1484 - accuracy: 0.5957 - val_loss: 0.9515 - val_accuracy: 0.6830\n",
            "Epoch 12/15\n",
            "352/352 [==============================] - 2s 6ms/step - loss: 1.1253 - accuracy: 0.6037 - val_loss: 0.9348 - val_accuracy: 0.6818\n",
            "Epoch 13/15\n",
            "352/352 [==============================] - 2s 6ms/step - loss: 1.1124 - accuracy: 0.6103 - val_loss: 0.9152 - val_accuracy: 0.6900\n",
            "Epoch 14/15\n",
            "352/352 [==============================] - 2s 7ms/step - loss: 1.0944 - accuracy: 0.6164 - val_loss: 0.8991 - val_accuracy: 0.6942\n",
            "Epoch 15/15\n",
            "352/352 [==============================] - 2s 6ms/step - loss: 1.0818 - accuracy: 0.6236 - val_loss: 0.8851 - val_accuracy: 0.6976\n",
            "313/313 [==============================] - 1s 3ms/step - loss: 0.9156 - accuracy: 0.6890\n",
            "測試損失: 0.9155845642089844\n",
            "測試準確度: 0.6890000104904175\n"
          ]
        }
      ],
      "source": [
        "# 載入套件\n",
        "from tensorflow.keras.datasets import cifar10\n",
        "from tensorflow.keras.utils import to_categorical\n",
        "from tensorflow.keras.models import Sequential\n",
        "from tensorflow.keras.layers import Conv2D, MaxPooling2D, Dense, Dropout, Flatten\n",
        "from tensorflow.keras.optimizers import Adam\n",
        "\n",
        "# CIFAR-10數據集\n",
        "(x_train, y_train), (x_test, y_test) = cifar10.load_data()\n",
        "\n",
        "# 資料預處理\n",
        "x_train = x_train.reshape(-1, 32, 32, 3).astype('float32') / 255\n",
        "x_test = x_test.reshape(-1, 32, 32, 3).astype('float32') / 255\n",
        "\n",
        "# 將y轉為one-hot的向量\n",
        "y_train = to_categorical(y_train, 10)\n",
        "y_test = to_categorical(y_test, 10)\n",
        "\n",
        "# 建立模型\n",
        "model = Sequential([\n",
        "    # 第一個卷積層，32個3x3的過濾器，使用ReLU激活函數\n",
        "    Conv2D(32, kernel_size=(3, 3), activation=\"relu\", input_shape=(32, 32, 3)),\n",
        "    # 最大池化層，2x2池化窗口\n",
        "    MaxPooling2D(pool_size=(2, 2)),\n",
        "    # 第二個卷積層，64個3x3的過濾器，使用ReLU激活函數\n",
        "    Conv2D(64, kernel_size=(3, 3), activation=\"relu\"),\n",
        "    # 最大池化層，2x2池化窗口\n",
        "    MaxPooling2D(pool_size=(2, 2)),\n",
        "    # Dropout層，減少過擬合\n",
        "    Dropout(0.5),\n",
        "    # 數據扁平化層，將3D特徵轉化為1D向量\n",
        "    Flatten(),\n",
        "    # 全連接層，64個神經元\n",
        "    Dense(64, activation=\"relu\"),\n",
        "    # Dropout層，進一步減少過擬合\n",
        "    Dropout(0.5),\n",
        "    # 輸出層，10個神經元，對應10個類別，使用softmax函數\n",
        "    Dense(10, activation=\"softmax\")\n",
        "])\n",
        "\n",
        "model.compile(loss=\"categorical_crossentropy\", optimizer=\"adam\", metrics=[\"accuracy\"])\n",
        "\n",
        "# 訓練模型\n",
        "model.fit(x_train, y_train, batch_size=128, epochs=15, validation_split=0.1)\n",
        "\n",
        "# 測試模型\n",
        "score = model.evaluate(x_test, y_test)\n",
        "print(\"測試損失:\", score[0])\n",
        "print(\"測試準確度:\", score[1])\n"
      ]
    },
    {
      "cell_type": "code",
      "source": [
        "model.summary()"
      ],
      "metadata": {
        "colab": {
          "base_uri": "https://localhost:8080/"
        },
        "id": "q1KjmOO7zRYr",
        "outputId": "07d5987e-34e7-40db-8a2b-8c493d2e3549"
      },
      "execution_count": 2,
      "outputs": [
        {
          "output_type": "stream",
          "name": "stdout",
          "text": [
            "Model: \"sequential\"\n",
            "_________________________________________________________________\n",
            " Layer (type)                Output Shape              Param #   \n",
            "=================================================================\n",
            " conv2d (Conv2D)             (None, 30, 30, 32)        896       \n",
            "                                                                 \n",
            " max_pooling2d (MaxPooling2  (None, 15, 15, 32)        0         \n",
            " D)                                                              \n",
            "                                                                 \n",
            " conv2d_1 (Conv2D)           (None, 13, 13, 64)        18496     \n",
            "                                                                 \n",
            " max_pooling2d_1 (MaxPoolin  (None, 6, 6, 64)          0         \n",
            " g2D)                                                            \n",
            "                                                                 \n",
            " dropout (Dropout)           (None, 6, 6, 64)          0         \n",
            "                                                                 \n",
            " flatten (Flatten)           (None, 2304)              0         \n",
            "                                                                 \n",
            " dense (Dense)               (None, 64)                147520    \n",
            "                                                                 \n",
            " dropout_1 (Dropout)         (None, 64)                0         \n",
            "                                                                 \n",
            " dense_1 (Dense)             (None, 10)                650       \n",
            "                                                                 \n",
            "=================================================================\n",
            "Total params: 167562 (654.54 KB)\n",
            "Trainable params: 167562 (654.54 KB)\n",
            "Non-trainable params: 0 (0.00 Byte)\n",
            "_________________________________________________________________\n"
          ]
        }
      ]
    },
    {
      "cell_type": "markdown",
      "source": [
        "## 遷移學習ResNet50"
      ],
      "metadata": {
        "id": "o8h9ij-KzfLs"
      }
    },
    {
      "cell_type": "code",
      "source": [
        "from tensorflow.keras.datasets import cifar10\n",
        "from tensorflow.keras.utils import to_categorical\n",
        "from tensorflow.keras.models import Sequential\n",
        "from tensorflow.keras.layers import GlobalAveragePooling2D, Dense, Dropout\n",
        "from tensorflow.keras.optimizers import Adam\n",
        "from tensorflow.keras.applications.resnet50 import ResNet50\n",
        "from tensorflow.keras.applications.resnet50 import preprocess_input\n",
        "\n",
        "# CIFAR-10數據集\n",
        "(x_train, y_train), (x_test, y_test) = cifar10.load_data()\n",
        "\n",
        "# 資料預處理\n",
        "x_train = preprocess_input(x_train)\n",
        "x_test = preprocess_input(x_test)\n",
        "\n",
        "# 將y轉為one-hot的向量\n",
        "y_train = to_categorical(y_train, 10)\n",
        "y_test = to_categorical(y_test, 10)\n",
        "\n",
        "# 加載預訓練的ResNet50模型\n",
        "base_model = ResNet50(weights='imagenet', include_top=False, input_shape=(32, 32, 3))\n",
        "# 讓所有參數根據新資料重新調整\n",
        "base_model.trainable = True\n",
        "\n",
        "# 建立模型\n",
        "model_resnet = Sequential([\n",
        "    base_model,  # 使用ResNet50作為基礎\n",
        "    GlobalAveragePooling2D(),  # 使用全局平均池化\n",
        "    Dropout(0.5),  # Dropout層，減少過擬合\n",
        "    Dense(256, activation=\"relu\"),  # 全連接層，256個神經元\n",
        "    Dropout(0.5),  # 再次Dropout，減少過擬合\n",
        "    Dense(10, activation=\"softmax\")  # 輸出層，10個類別\n",
        "])\n",
        "\n",
        "\n",
        "model_resnet.compile(loss=\"categorical_crossentropy\", optimizer=Adam(learning_rate=0.001), metrics=[\"accuracy\"])\n",
        "\n",
        "# 訓練模型\n",
        "model_resnet.fit(x_train, y_train, batch_size=128, epochs=15, validation_split=0.1)\n",
        "\n",
        "# 測試模型\n",
        "score = model_resnet.evaluate(x_test, y_test)\n",
        "print(\"測試損失:\", score[0])\n",
        "print(\"測試準確度:\", score[1])\n"
      ],
      "metadata": {
        "colab": {
          "base_uri": "https://localhost:8080/"
        },
        "id": "dT20xd9WzRa9",
        "outputId": "3146b63f-f20a-49e9-fc6e-29889202456b"
      },
      "execution_count": 3,
      "outputs": [
        {
          "output_type": "stream",
          "name": "stdout",
          "text": [
            "Downloading data from https://storage.googleapis.com/tensorflow/keras-applications/resnet/resnet50_weights_tf_dim_ordering_tf_kernels_notop.h5\n",
            "94765736/94765736 [==============================] - 0s 0us/step\n",
            "Epoch 1/15\n",
            "352/352 [==============================] - 58s 75ms/step - loss: 1.6393 - accuracy: 0.4900 - val_loss: 2.6811 - val_accuracy: 0.5708\n",
            "Epoch 2/15\n",
            "352/352 [==============================] - 23s 64ms/step - loss: 0.9102 - accuracy: 0.7108 - val_loss: 1.0675 - val_accuracy: 0.6682\n",
            "Epoch 3/15\n",
            "352/352 [==============================] - 23s 66ms/step - loss: 0.7720 - accuracy: 0.7572 - val_loss: 1.6495 - val_accuracy: 0.5006\n",
            "Epoch 4/15\n",
            "352/352 [==============================] - 22s 64ms/step - loss: 0.8113 - accuracy: 0.7418 - val_loss: 2.0604 - val_accuracy: 0.3596\n",
            "Epoch 5/15\n",
            "352/352 [==============================] - 23s 64ms/step - loss: 0.7690 - accuracy: 0.7533 - val_loss: 0.8906 - val_accuracy: 0.7208\n",
            "Epoch 6/15\n",
            "352/352 [==============================] - 23s 66ms/step - loss: 0.5503 - accuracy: 0.8241 - val_loss: 0.6891 - val_accuracy: 0.7770\n",
            "Epoch 7/15\n",
            "352/352 [==============================] - 22s 64ms/step - loss: 0.4422 - accuracy: 0.8590 - val_loss: 0.7170 - val_accuracy: 0.7830\n",
            "Epoch 8/15\n",
            "352/352 [==============================] - 23s 64ms/step - loss: 0.3776 - accuracy: 0.8807 - val_loss: 0.6631 - val_accuracy: 0.7946\n",
            "Epoch 9/15\n",
            "352/352 [==============================] - 23s 65ms/step - loss: 0.3400 - accuracy: 0.8925 - val_loss: 0.9198 - val_accuracy: 0.7400\n",
            "Epoch 10/15\n",
            "352/352 [==============================] - 22s 64ms/step - loss: 0.4742 - accuracy: 0.8530 - val_loss: 1.1939 - val_accuracy: 0.7004\n",
            "Epoch 11/15\n",
            "352/352 [==============================] - 23s 64ms/step - loss: 0.4887 - accuracy: 0.8459 - val_loss: 1.2781 - val_accuracy: 0.6800\n",
            "Epoch 12/15\n",
            "352/352 [==============================] - 23s 66ms/step - loss: 0.3983 - accuracy: 0.8733 - val_loss: 0.7543 - val_accuracy: 0.7762\n",
            "Epoch 13/15\n",
            "352/352 [==============================] - 22s 63ms/step - loss: 0.2979 - accuracy: 0.9069 - val_loss: 0.7869 - val_accuracy: 0.7828\n",
            "Epoch 14/15\n",
            "352/352 [==============================] - 23s 64ms/step - loss: 0.3517 - accuracy: 0.8881 - val_loss: 0.8307 - val_accuracy: 0.7714\n",
            "Epoch 15/15\n",
            "352/352 [==============================] - 23s 64ms/step - loss: 0.3359 - accuracy: 0.8962 - val_loss: 0.8118 - val_accuracy: 0.7754\n",
            "313/313 [==============================] - 5s 15ms/step - loss: 0.8462 - accuracy: 0.7655\n",
            "測試損失: 0.8461869359016418\n",
            "測試準確度: 0.765500009059906\n"
          ]
        }
      ]
    },
    {
      "cell_type": "code",
      "source": [
        "model_resnet.summary()"
      ],
      "metadata": {
        "colab": {
          "base_uri": "https://localhost:8080/"
        },
        "id": "eO-nL6QozRdI",
        "outputId": "209fe05e-0713-48db-f477-d7dddd798c9d"
      },
      "execution_count": 4,
      "outputs": [
        {
          "output_type": "stream",
          "name": "stdout",
          "text": [
            "Model: \"sequential_1\"\n",
            "_________________________________________________________________\n",
            " Layer (type)                Output Shape              Param #   \n",
            "=================================================================\n",
            " resnet50 (Functional)       (None, 1, 1, 2048)        23587712  \n",
            "                                                                 \n",
            " global_average_pooling2d (  (None, 2048)              0         \n",
            " GlobalAveragePooling2D)                                         \n",
            "                                                                 \n",
            " dropout_2 (Dropout)         (None, 2048)              0         \n",
            "                                                                 \n",
            " dense_2 (Dense)             (None, 256)               524544    \n",
            "                                                                 \n",
            " dropout_3 (Dropout)         (None, 256)               0         \n",
            "                                                                 \n",
            " dense_3 (Dense)             (None, 10)                2570      \n",
            "                                                                 \n",
            "=================================================================\n",
            "Total params: 24114826 (91.99 MB)\n",
            "Trainable params: 24061706 (91.79 MB)\n",
            "Non-trainable params: 53120 (207.50 KB)\n",
            "_________________________________________________________________\n"
          ]
        }
      ]
    },
    {
      "cell_type": "code",
      "source": [],
      "metadata": {
        "id": "lUWBS8XriJxG"
      },
      "execution_count": 7,
      "outputs": []
    },
    {
      "cell_type": "markdown",
      "source": [
        "### Pytorch版本"
      ],
      "metadata": {
        "id": "Vm1ywBmtiHfj"
      }
    },
    {
      "cell_type": "code",
      "source": [
        "import torch\n",
        "import torch.nn as nn\n",
        "import torch.optim as optim\n",
        "from torch.utils.data import DataLoader, Subset\n",
        "from torchvision import datasets, transforms\n",
        "from sklearn.model_selection import train_test_split\n",
        "from torchvision.models import resnet50\n",
        "\n",
        "# 設定裝置\n",
        "device = torch.device(\"cuda\" if torch.cuda.is_available() else \"cpu\")\n",
        "\n",
        "# CIFAR-10數據集載入及預處理\n",
        "transform = transforms.Compose([\n",
        "    transforms.ToTensor(),\n",
        "    transforms.Normalize((0.485, 0.456, 0.406), (0.229, 0.224, 0.225))\n",
        "])\n",
        "\n",
        "# 載入數據集\n",
        "train_dataset = datasets.CIFAR10(root='./data', train=True, download=True, transform=transform)\n",
        "test_dataset = datasets.CIFAR10(root='./data', train=False, download=True, transform=transform)\n",
        "\n",
        "# 切分訓練數據集為訓練和驗證集\n",
        "train_indices, val_indices = train_test_split(range(len(train_dataset)), test_size=0.1, random_state=42)\n",
        "train_subset = Subset(train_dataset, train_indices)\n",
        "val_subset = Subset(train_dataset, val_indices)\n",
        "\n",
        "# 載入數據加載器\n",
        "train_loader = DataLoader(train_subset, batch_size=128, shuffle=True)\n",
        "validation_loader = DataLoader(val_subset, batch_size=128, shuffle=False)\n",
        "test_loader = DataLoader(test_dataset, batch_size=128, shuffle=False)\n",
        "\n",
        "# 建立模型\n",
        "class ResNetModified(nn.Module):\n",
        "    def __init__(self):\n",
        "        super(ResNetModified, self).__init__()\n",
        "        self.base_model = resnet50(pretrained=True)\n",
        "        self.base_model.avgpool = nn.AdaptiveAvgPool2d((1, 1))\n",
        "        self.base_model.fc = nn.Sequential(\n",
        "            nn.Dropout(0.5),\n",
        "            nn.Linear(self.base_model.fc.in_features, 256),\n",
        "            nn.ReLU(),\n",
        "            nn.Dropout(0.5),\n",
        "            nn.Linear(256, 10)\n",
        "        )\n",
        "\n",
        "    def forward(self, x):\n",
        "        return self.base_model(x)\n",
        "\n",
        "model = ResNetModified().to(device)\n",
        "\n",
        "# 損失函數和優化器\n",
        "criterion = nn.CrossEntropyLoss()\n",
        "optimizer = optim.Adam(model.parameters(), lr=0.001)\n",
        "\n",
        "# 訓練模型\n",
        "for epoch in range(15):\n",
        "    model.train()\n",
        "    for data, target in train_loader:\n",
        "        data, target = data.to(device), target.to(device)\n",
        "        optimizer.zero_grad()\n",
        "        output = model(data)\n",
        "        loss = criterion(output, target)\n",
        "        loss.backward()\n",
        "        optimizer.step()\n",
        "\n",
        "    # 驗證模型\n",
        "    model.eval()\n",
        "    validation_loss = 0\n",
        "    correct = 0\n",
        "    with torch.no_grad():\n",
        "        for data, target in validation_loader:\n",
        "            data, target = data.to(device), target.to(device)\n",
        "            output = model(data)\n",
        "            validation_loss += criterion(output, target).item()\n",
        "            pred = output.argmax(dim=1, keepdim=True)\n",
        "            correct += pred.eq(target.view_as(pred)).sum().item()\n",
        "\n",
        "    validation_loss /= len(validation_loader.dataset)\n",
        "    validation_accuracy = 100. * correct / len(validation_loader.dataset)\n",
        "    print(f\"Epoch {epoch+1}, Validation Loss: {validation_loss:.4f}, Validation Accuracy: {validation_accuracy:.2f}%\")\n",
        "\n",
        "# 測試模型\n",
        "test_loss = 0\n",
        "correct = 0\n",
        "with torch.no_grad():\n",
        "    for data, target in test_loader:\n",
        "        data, target = data.to(device), target.to(device)\n",
        "        output = model(data)\n",
        "        test_loss += criterion(output, target).item()\n",
        "        pred = output.argmax(dim=1, keepdim=True)\n",
        "        correct += pred.eq(target.view_as(pred)).sum().item()\n",
        "\n",
        "test_loss /= len(test_loader.dataset)\n",
        "test_accuracy = 100. * correct / len(test_loader.dataset)\n",
        "print(f\"Test Loss: {test_loss:.4f}, Test Accuracy: {test_accuracy:.2f}%\")\n"
      ],
      "metadata": {
        "id": "9MPMGguPiKLF",
        "colab": {
          "base_uri": "https://localhost:8080/"
        },
        "outputId": "210e4b75-e925-4345-84d9-acfeaca46792"
      },
      "execution_count": 1,
      "outputs": [
        {
          "output_type": "stream",
          "name": "stdout",
          "text": [
            "Files already downloaded and verified\n",
            "Files already downloaded and verified\n"
          ]
        },
        {
          "output_type": "stream",
          "name": "stderr",
          "text": [
            "/usr/local/lib/python3.10/dist-packages/torchvision/models/_utils.py:208: UserWarning: The parameter 'pretrained' is deprecated since 0.13 and may be removed in the future, please use 'weights' instead.\n",
            "  warnings.warn(\n",
            "/usr/local/lib/python3.10/dist-packages/torchvision/models/_utils.py:223: UserWarning: Arguments other than a weight enum or `None` for 'weights' are deprecated since 0.13 and may be removed in the future. The current behavior is equivalent to passing `weights=ResNet50_Weights.IMAGENET1K_V1`. You can also use `weights=ResNet50_Weights.DEFAULT` to get the most up-to-date weights.\n",
            "  warnings.warn(msg)\n"
          ]
        },
        {
          "output_type": "stream",
          "name": "stdout",
          "text": [
            "Epoch 1, Validation Loss: 0.0101, Validation Accuracy: 61.86%\n",
            "Epoch 2, Validation Loss: 0.0051, Validation Accuracy: 78.12%\n",
            "Epoch 3, Validation Loss: 0.0053, Validation Accuracy: 78.12%\n",
            "Epoch 4, Validation Loss: 0.0047, Validation Accuracy: 80.82%\n",
            "Epoch 5, Validation Loss: 0.0053, Validation Accuracy: 79.88%\n",
            "Epoch 6, Validation Loss: 0.0052, Validation Accuracy: 80.16%\n",
            "Epoch 7, Validation Loss: 0.0052, Validation Accuracy: 80.80%\n",
            "Epoch 8, Validation Loss: 0.0097, Validation Accuracy: 57.38%\n",
            "Epoch 9, Validation Loss: 0.0063, Validation Accuracy: 78.66%\n",
            "Epoch 10, Validation Loss: 0.0046, Validation Accuracy: 82.62%\n",
            "Epoch 11, Validation Loss: 0.0051, Validation Accuracy: 82.00%\n",
            "Epoch 12, Validation Loss: 0.0052, Validation Accuracy: 83.06%\n",
            "Epoch 13, Validation Loss: 0.0057, Validation Accuracy: 81.68%\n",
            "Epoch 14, Validation Loss: 0.0057, Validation Accuracy: 82.54%\n",
            "Epoch 15, Validation Loss: 0.0056, Validation Accuracy: 82.46%\n",
            "Test Loss: 0.0063, Test Accuracy: 80.72%\n"
          ]
        }
      ]
    },
    {
      "cell_type": "code",
      "source": [],
      "metadata": {
        "id": "5k4ly-W2iKE0"
      },
      "execution_count": null,
      "outputs": []
    },
    {
      "cell_type": "code",
      "source": [],
      "metadata": {
        "id": "Cd5-H2T8zRfb"
      },
      "execution_count": null,
      "outputs": []
    },
    {
      "cell_type": "markdown",
      "source": [
        "## Fine-tuning示範\n",
        "只微調ResNet的最後5層，其他不變"
      ],
      "metadata": {
        "id": "khYCHMmsepZD"
      }
    },
    {
      "cell_type": "code",
      "source": [
        "from tensorflow.keras.datasets import cifar10\n",
        "from tensorflow.keras.utils import to_categorical\n",
        "from tensorflow.keras.models import Sequential\n",
        "from tensorflow.keras.layers import GlobalAveragePooling2D, Dense, Dropout\n",
        "from tensorflow.keras.optimizers import Adam\n",
        "from tensorflow.keras.applications.resnet50 import ResNet50\n",
        "from tensorflow.keras.applications.resnet50 import preprocess_input\n",
        "\n",
        "# CIFAR-10數據集\n",
        "(x_train, y_train), (x_test, y_test) = cifar10.load_data()\n",
        "\n",
        "# 資料預處理\n",
        "x_train = preprocess_input(x_train)\n",
        "x_test = preprocess_input(x_test)\n",
        "\n",
        "# 將y轉為one-hot的向量\n",
        "y_train = to_categorical(y_train, 10)\n",
        "y_test = to_categorical(y_test, 10)\n",
        "\n",
        "# 加載預訓練的ResNet50模型\n",
        "base_model = ResNet50(weights='imagenet', include_top=False, input_shape=(32, 32, 3))\n",
        "\n",
        "# 假設只想訓練最後5個層，其他凍住\n",
        "for layer in base_model.layers[:-5]:\n",
        "    layer.trainable = False\n",
        "\n",
        "for layer in base_model.layers[-5:]:\n",
        "    layer.trainable = True\n",
        "\n",
        "# 建立模型\n",
        "model_resnet = Sequential([\n",
        "    base_model,  # 使用ResNet50作為基礎\n",
        "    GlobalAveragePooling2D(),  # 使用全局平均池化\n",
        "    Dropout(0.5),  # Dropout層，減少過擬合\n",
        "    Dense(256, activation=\"relu\"),  # 全連接層，256個神經元\n",
        "    Dropout(0.5),  # 再次Dropout，減少過擬合\n",
        "    Dense(10, activation=\"softmax\")  # 輸出層，10個類別\n",
        "])\n",
        "\n",
        "\n",
        "model_resnet.compile(loss=\"categorical_crossentropy\", optimizer=Adam(learning_rate=0.001), metrics=[\"accuracy\"])\n",
        "\n",
        "# 訓練模型\n",
        "model_resnet.fit(x_train, y_train, batch_size=128, epochs=15, validation_split=0.1)\n",
        "\n",
        "# 測試模型\n",
        "score = model_resnet.evaluate(x_test, y_test)\n",
        "print(\"測試損失:\", score[0])\n",
        "print(\"測試準確度:\", score[1])\n"
      ],
      "metadata": {
        "id": "XQgvI9_Lev3H",
        "colab": {
          "base_uri": "https://localhost:8080/"
        },
        "outputId": "68011816-7b51-453f-c331-1590657bc338"
      },
      "execution_count": 1,
      "outputs": [
        {
          "output_type": "stream",
          "name": "stdout",
          "text": [
            "Epoch 1/15\n",
            "352/352 [==============================] - 23s 28ms/step - loss: 1.8000 - accuracy: 0.4606 - val_loss: 1.1527 - val_accuracy: 0.6058\n",
            "Epoch 2/15\n",
            "352/352 [==============================] - 7s 20ms/step - loss: 1.2756 - accuracy: 0.5538 - val_loss: 1.0615 - val_accuracy: 0.6436\n",
            "Epoch 3/15\n",
            "352/352 [==============================] - 7s 21ms/step - loss: 1.1704 - accuracy: 0.5911 - val_loss: 1.0109 - val_accuracy: 0.6586\n",
            "Epoch 4/15\n",
            "352/352 [==============================] - 8s 22ms/step - loss: 1.1001 - accuracy: 0.6150 - val_loss: 0.9839 - val_accuracy: 0.6696\n",
            "Epoch 5/15\n",
            "352/352 [==============================] - 8s 23ms/step - loss: 1.0568 - accuracy: 0.6293 - val_loss: 0.9693 - val_accuracy: 0.6674\n",
            "Epoch 6/15\n",
            "352/352 [==============================] - 8s 23ms/step - loss: 1.0084 - accuracy: 0.6452 - val_loss: 0.9458 - val_accuracy: 0.6772\n",
            "Epoch 7/15\n",
            "352/352 [==============================] - 7s 20ms/step - loss: 0.9761 - accuracy: 0.6553 - val_loss: 0.9330 - val_accuracy: 0.6804\n",
            "Epoch 8/15\n",
            "352/352 [==============================] - 9s 25ms/step - loss: 0.9463 - accuracy: 0.6643 - val_loss: 0.9182 - val_accuracy: 0.6860\n",
            "Epoch 9/15\n",
            "352/352 [==============================] - 7s 20ms/step - loss: 0.9141 - accuracy: 0.6749 - val_loss: 0.9236 - val_accuracy: 0.6776\n",
            "Epoch 10/15\n",
            "352/352 [==============================] - 8s 21ms/step - loss: 0.8858 - accuracy: 0.6856 - val_loss: 0.9132 - val_accuracy: 0.6868\n",
            "Epoch 11/15\n",
            "352/352 [==============================] - 7s 20ms/step - loss: 0.8651 - accuracy: 0.6906 - val_loss: 0.9188 - val_accuracy: 0.6850\n",
            "Epoch 12/15\n",
            "352/352 [==============================] - 7s 21ms/step - loss: 0.8434 - accuracy: 0.6996 - val_loss: 0.9056 - val_accuracy: 0.6880\n",
            "Epoch 13/15\n",
            "352/352 [==============================] - 8s 22ms/step - loss: 0.8181 - accuracy: 0.7071 - val_loss: 0.9111 - val_accuracy: 0.6864\n",
            "Epoch 14/15\n",
            "352/352 [==============================] - 7s 21ms/step - loss: 0.7967 - accuracy: 0.7162 - val_loss: 0.9112 - val_accuracy: 0.6870\n",
            "Epoch 15/15\n",
            "352/352 [==============================] - 7s 21ms/step - loss: 0.7744 - accuracy: 0.7232 - val_loss: 0.9166 - val_accuracy: 0.6870\n",
            "313/313 [==============================] - 5s 15ms/step - loss: 0.9453 - accuracy: 0.6765\n",
            "測試損失: 0.9452942609786987\n",
            "測試準確度: 0.6765000224113464\n"
          ]
        }
      ]
    },
    {
      "cell_type": "code",
      "source": [],
      "metadata": {
        "id": "jRmapd-pifne"
      },
      "execution_count": null,
      "outputs": []
    },
    {
      "cell_type": "markdown",
      "source": [
        "### Pytorch版本"
      ],
      "metadata": {
        "id": "k6dEORgbif7V"
      }
    },
    {
      "cell_type": "code",
      "source": [
        "import torch\n",
        "import torch.nn as nn\n",
        "import torch.optim as optim\n",
        "from torch.utils.data import DataLoader, Subset\n",
        "from torchvision import datasets, transforms, models\n",
        "from sklearn.model_selection import train_test_split\n",
        "\n",
        "# 設定裝置\n",
        "device = torch.device(\"cuda\" if torch.cuda.is_available() else \"cpu\")\n",
        "\n",
        "# CIFAR-10數據集載入及預處理\n",
        "transform = transforms.Compose([\n",
        "    transforms.ToTensor(),\n",
        "    transforms.Normalize((0.485, 0.456, 0.406), (0.229, 0.224, 0.225))\n",
        "])\n",
        "\n",
        "# 載入數據集\n",
        "train_dataset = datasets.CIFAR10(root='./data', train=True, download=True, transform=transform)\n",
        "test_dataset = datasets.CIFAR10(root='./data', train=False, download=True, transform=transform)\n",
        "\n",
        "# 切分訓練數據集為訓練和驗證集\n",
        "train_indices, val_indices = train_test_split(range(len(train_dataset)), test_size=0.1, random_state=42)\n",
        "train_subset = Subset(train_dataset, train_indices)\n",
        "val_subset = Subset(train_dataset, val_indices)\n",
        "\n",
        "# 載入數據加載器\n",
        "train_loader = DataLoader(train_subset, batch_size=128, shuffle=True)\n",
        "validation_loader = DataLoader(val_subset, batch_size=128, shuffle=False)\n",
        "test_loader = DataLoader(test_dataset, batch_size=128, shuffle=False)\n",
        "\n",
        "# 建立模型\n",
        "class ResNetModified(nn.Module):\n",
        "    def __init__(self):\n",
        "        super(ResNetModified, self).__init__()\n",
        "        self.base_model = models.resnet50(pretrained=True)\n",
        "\n",
        "        # 保留所有層，除了最後的全連接層\n",
        "        self.features = nn.Sequential(*list(self.base_model.children())[:-2])\n",
        "\n",
        "        # 添加自定义层\n",
        "        self.avgpool = nn.AdaptiveAvgPool2d((1, 1))\n",
        "        self.fc1 = nn.Linear(2048, 256)  # 2048 是 ResNet50 最後一個輸出特徵數\n",
        "        self.dropout = nn.Dropout(0.5)\n",
        "        self.fc2 = nn.Linear(256, 10)\n",
        "\n",
        "    def forward(self, x):\n",
        "        x = self.features(x)\n",
        "        x = self.avgpool(x)\n",
        "        x = x.view(x.size(0), -1)  # Flatten\n",
        "        x = self.dropout(self.fc1(x))\n",
        "        x = nn.ReLU()(x)\n",
        "        x = self.dropout(x)\n",
        "        x = self.fc2(x)\n",
        "        return x\n",
        "\n",
        "\n",
        "model = ResNetModified().to(device)\n",
        "\n",
        "# 損失函數和優化器\n",
        "criterion = nn.CrossEntropyLoss()\n",
        "optimizer = optim.Adam(filter(lambda p: p.requires_grad, model.parameters()), lr=0.001)\n",
        "\n",
        "# 訓練模型\n",
        "for epoch in range(15):\n",
        "    model.train()\n",
        "    for data, target in train_loader:\n",
        "        data, target = data.to(device), target.to(device)\n",
        "        optimizer.zero_grad()\n",
        "        output = model(data)\n",
        "        loss = criterion(output, target)\n",
        "        loss.backward()\n",
        "        optimizer.step()\n",
        "\n",
        "    # 驗證模型\n",
        "    model.eval()\n",
        "    validation_loss = 0\n",
        "    correct = 0\n",
        "    with torch.no_grad():\n",
        "        for data, target in validation_loader:\n",
        "            data, target = data.to(device), target.to(device)\n",
        "            output = model(data)\n",
        "            validation_loss += criterion(output, target).item()\n",
        "            pred = output.argmax(dim=1, keepdim=True)\n",
        "            correct += pred.eq(target.view_as(pred)).sum().item()\n",
        "\n",
        "    validation_loss /= len(validation_loader.dataset)\n",
        "    validation_accuracy = 100. * correct / len(validation_loader.dataset)\n",
        "    print(f\"Epoch {epoch+1}, Validation Loss: {validation_loss:.4f}, Validation Accuracy: {validation_accuracy:.2f}%\")\n",
        "\n",
        "# 測試模型\n",
        "test_loss = 0\n",
        "correct = 0\n",
        "with torch.no_grad():\n",
        "    for data, target in test_loader:\n",
        "        data, target = data.to(device), target.to(device)\n",
        "        output = model(data)\n",
        "        test_loss += criterion(output, target).item()\n",
        "        pred = output.argmax(dim=1, keepdim=True)\n",
        "        correct += pred.eq(target.view_as(pred)).sum().item()\n",
        "\n",
        "test_loss /= len(test_loader.dataset)\n",
        "test_accuracy = 100. * correct / len(test_loader.dataset)\n",
        "print(f\"Test Loss: {test_loss:.4f}, Test Accuracy: {test_accuracy:.2f}%\")\n"
      ],
      "metadata": {
        "id": "eQulZdnJihUQ",
        "colab": {
          "base_uri": "https://localhost:8080/"
        },
        "outputId": "6ea12a2b-0f4a-49c5-b5e2-ddd84b58cdd4"
      },
      "execution_count": 4,
      "outputs": [
        {
          "output_type": "stream",
          "name": "stdout",
          "text": [
            "Files already downloaded and verified\n",
            "Files already downloaded and verified\n",
            "Epoch 1, Validation Loss: 0.0076, Validation Accuracy: 68.42%\n",
            "Epoch 2, Validation Loss: 0.0056, Validation Accuracy: 77.12%\n",
            "Epoch 3, Validation Loss: 0.0051, Validation Accuracy: 78.78%\n",
            "Epoch 4, Validation Loss: 0.0051, Validation Accuracy: 79.52%\n",
            "Epoch 5, Validation Loss: 0.0045, Validation Accuracy: 81.60%\n",
            "Epoch 6, Validation Loss: 0.0047, Validation Accuracy: 82.76%\n",
            "Epoch 7, Validation Loss: 0.0053, Validation Accuracy: 80.90%\n",
            "Epoch 8, Validation Loss: 0.0061, Validation Accuracy: 75.46%\n",
            "Epoch 9, Validation Loss: 0.0051, Validation Accuracy: 81.46%\n",
            "Epoch 10, Validation Loss: 0.0058, Validation Accuracy: 81.44%\n",
            "Epoch 11, Validation Loss: 0.0057, Validation Accuracy: 81.14%\n",
            "Epoch 12, Validation Loss: 0.0060, Validation Accuracy: 82.06%\n",
            "Epoch 13, Validation Loss: 0.0062, Validation Accuracy: 81.22%\n",
            "Epoch 14, Validation Loss: 0.0064, Validation Accuracy: 81.48%\n",
            "Epoch 15, Validation Loss: 0.0063, Validation Accuracy: 82.70%\n",
            "Test Loss: 0.0069, Test Accuracy: 81.09%\n"
          ]
        }
      ]
    },
    {
      "cell_type": "code",
      "source": [],
      "metadata": {
        "id": "b5CF2nE5zYvq"
      },
      "execution_count": null,
      "outputs": []
    }
  ]
}